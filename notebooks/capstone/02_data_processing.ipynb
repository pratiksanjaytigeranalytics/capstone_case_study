{
 "cells": [
  {
   "attachments": {},
   "cell_type": "markdown",
   "metadata": {},
   "source": [
    "# Purpose"
   ]
  },
  {
   "attachments": {},
   "cell_type": "markdown",
   "metadata": {},
   "source": [
    "\n",
    "This notebook demonstrates the data pipeline from raw tables to analytical datasets. At the end of this activity, train & test data sets are created from raw data.\n",
    "\n"
   ]
  },
  {
   "attachments": {},
   "cell_type": "markdown",
   "metadata": {},
   "source": [
    "## Imports"
   ]
  },
  {
   "cell_type": "code",
   "execution_count": 87,
   "metadata": {},
   "outputs": [],
   "source": [
    "from pprint import pprint\n",
    "import os\n",
    "import os.path as op\n",
    "import shutil\n",
    "import matplotlib.pyplot as plt\n",
    "import seaborn as sns\n",
    "\n",
    "# standard third party imports\n",
    "import numpy as np\n",
    "import pandas as pd\n",
    "from sklearn.model_selection import train_test_split\n",
    "pd.options.mode.use_inf_as_na = True\n"
   ]
  },
  {
   "cell_type": "code",
   "execution_count": 88,
   "metadata": {},
   "outputs": [
    {
     "name": "stdout",
     "output_type": "stream",
     "text": [
      "The autoreload extension is already loaded. To reload it, use:\n",
      "  %reload_ext autoreload\n"
     ]
    }
   ],
   "source": [
    "%load_ext autoreload\n",
    "%autoreload 2"
   ]
  },
  {
   "cell_type": "code",
   "execution_count": 89,
   "metadata": {},
   "outputs": [],
   "source": [
    "# standard code-template imports\n",
    "from ta_lib.core.api import (\n",
    "    create_context, get_dataframe, get_feature_names_from_column_transformer, get_package_path,\n",
    "    display_as_tabs, string_cleaning, merge_info, initialize_environment,\n",
    "    list_datasets, load_dataset, save_dataset\n",
    ")\n",
    "import ta_lib.eda.api as eda"
   ]
  },
  {
   "cell_type": "code",
   "execution_count": 90,
   "metadata": {},
   "outputs": [],
   "source": [
    "import warnings\n",
    "\n",
    "warnings.filterwarnings('ignore', message=\"The default value of regex will change from True to False in a future version.\", \n",
    "                        category=FutureWarning)"
   ]
  },
  {
   "cell_type": "code",
   "execution_count": 91,
   "metadata": {},
   "outputs": [],
   "source": [
    "initialize_environment(debug=False, hide_warnings=True)"
   ]
  },
  {
   "attachments": {},
   "cell_type": "markdown",
   "metadata": {},
   "source": [
    "## Utility functions"
   ]
  },
  {
   "attachments": {},
   "cell_type": "markdown",
   "metadata": {},
   "source": [
    "# 1. Initialization\n"
   ]
  },
  {
   "cell_type": "code",
   "execution_count": 92,
   "metadata": {},
   "outputs": [
    {
     "name": "stdout",
     "output_type": "stream",
     "text": [
      "['/raw/google',\n",
      " '/raw/product',\n",
      " '/raw/sales',\n",
      " '/raw/social_media',\n",
      " '/raw/Theme_list',\n",
      " '/raw/Theme_Product_list',\n",
      " '/cleaned/google',\n",
      " '/cleaned/product',\n",
      " '/cleaned/sales',\n",
      " '/cleaned/social_media',\n",
      " '/cleaned/Theme_list',\n",
      " '/cleaned/Theme_Product_list',\n",
      " '/processed/sales_data_processed',\n",
      " '/processed/social_media_data_processed',\n",
      " '/processed/google_search_data_processed',\n",
      " '/processed/sales_social_google_data_processed',\n",
      " '/train/features',\n",
      " '/train/target',\n",
      " '/test/features',\n",
      " '/test/target',\n",
      " '/score/output']\n"
     ]
    }
   ],
   "source": [
    "config_path = op.join('conf', 'config.yml')\n",
    "context = create_context(config_path)\n",
    "pprint(list_datasets(context))\n"
   ]
  },
  {
   "cell_type": "code",
   "execution_count": 93,
   "metadata": {},
   "outputs": [],
   "source": [
    "# load datasets\n",
    "google_search_data = load_dataset(context, 'raw/google')\n",
    "product_manufacturer_list = load_dataset(context, 'raw/product')\n",
    "sales_data = load_dataset(context, 'raw/sales')\n",
    "social_media_data = load_dataset(context, 'raw/social_media')\n",
    "Theme_list = load_dataset(context, 'raw/Theme_list')\n",
    "Theme_product_list = load_dataset(context, 'raw/Theme_Product_list')\n"
   ]
  },
  {
   "attachments": {},
   "cell_type": "markdown",
   "metadata": {},
   "source": [
    "# 2. Data cleaning and consolidation"
   ]
  },
  {
   "attachments": {},
   "cell_type": "markdown",
   "metadata": {},
   "source": [
    "**<u>NOTES</u>**\n",
    "\n",
    "The focus here is to create a cleaned dataset that is appropriate for solving the DS problem at hand from the raw data.\n",
    "\n",
    "**1. Do**\n",
    "* clean dataframe column names\n",
    "* Converting date columns to date time format\n",
    "* ensure dtypes are set properly\n",
    "* join with other tables etc to create features\n",
    "* transform, if appropriate, datetime like columns to generate additional features (weekday etc)\n",
    "* transform, if appropriate, string columns to generate additional features\n",
    "* discard cols that are not useful for training the model (IDs, constant cols, duplicate cols etc)\n",
    "* additional features generated from existing columns\n",
    "\n",
    "\n",
    "**2. Don't**\n",
    "* handle missing values or outliers here. mark them and leave them for processing downstream.\n"
   ]
  },
  {
   "attachments": {},
   "cell_type": "markdown",
   "metadata": {},
   "source": [
    "## 2.1 Clean Tables "
   ]
  },
  {
   "attachments": {},
   "cell_type": "markdown",
   "metadata": {},
   "source": [
    "### Data Sources\n",
    "\n",
    "From data discovery, we know the following\n",
    "\n",
    "* all columns are strings : nothing to fix. Apply generic cleaning (strip extra whitespace etc)\n",
    "* ensure all `invalid` string entries are mapped to np.NaN\n",
    "* some column are duplicates. Better to `coalesce` them instead of an outright discard of one of the columns.\n",
    "* Claim_id is key column : ensure no duplicate values\n",
    "* This will go into production code\n"
   ]
  },
  {
   "attachments": {},
   "cell_type": "markdown",
   "metadata": {},
   "source": [
    "#### SOCIAL MEDIA DATA"
   ]
  },
  {
   "cell_type": "code",
   "execution_count": 94,
   "metadata": {},
   "outputs": [
    {
     "data": {
      "text/html": [
       "<div>\n",
       "<style scoped>\n",
       "    .dataframe tbody tr th:only-of-type {\n",
       "        vertical-align: middle;\n",
       "    }\n",
       "\n",
       "    .dataframe tbody tr th {\n",
       "        vertical-align: top;\n",
       "    }\n",
       "\n",
       "    .dataframe thead th {\n",
       "        text-align: right;\n",
       "    }\n",
       "</style>\n",
       "<table border=\"1\" class=\"dataframe\">\n",
       "  <thead>\n",
       "    <tr style=\"text-align: right;\">\n",
       "      <th></th>\n",
       "      <th>Claim_Id</th>\n",
       "      <th>date</th>\n",
       "      <th>total_post</th>\n",
       "    </tr>\n",
       "  </thead>\n",
       "  <tbody>\n",
       "    <tr>\n",
       "      <th>0</th>\n",
       "      <td>148.0</td>\n",
       "      <td>2015-10-01</td>\n",
       "      <td>76</td>\n",
       "    </tr>\n",
       "    <tr>\n",
       "      <th>1</th>\n",
       "      <td>148.0</td>\n",
       "      <td>2015-10-10</td>\n",
       "      <td>31</td>\n",
       "    </tr>\n",
       "    <tr>\n",
       "      <th>2</th>\n",
       "      <td>148.0</td>\n",
       "      <td>2015-10-11</td>\n",
       "      <td>65</td>\n",
       "    </tr>\n",
       "    <tr>\n",
       "      <th>3</th>\n",
       "      <td>148.0</td>\n",
       "      <td>2015-10-12</td>\n",
       "      <td>88</td>\n",
       "    </tr>\n",
       "    <tr>\n",
       "      <th>4</th>\n",
       "      <td>148.0</td>\n",
       "      <td>2015-10-13</td>\n",
       "      <td>85</td>\n",
       "    </tr>\n",
       "  </tbody>\n",
       "</table>\n",
       "</div>"
      ],
      "text/plain": [
       "   Claim_Id       date  total_post\n",
       "0     148.0 2015-10-01          76\n",
       "1     148.0 2015-10-10          31\n",
       "2     148.0 2015-10-11          65\n",
       "3     148.0 2015-10-12          88\n",
       "4     148.0 2015-10-13          85"
      ]
     },
     "execution_count": 94,
     "metadata": {},
     "output_type": "execute_result"
    }
   ],
   "source": [
    "social_media_data_clean = (\n",
    "    social_media_data\n",
    "    # while iterating on testing, it's good to copy the dataset(or a subset)\n",
    "    # as the following steps will mutate the input dataframe. The copy should be\n",
    "    # removed in the production code to avoid introducing perf. bottlenecks.\n",
    "    .copy()\n",
    "    # set dtypes : nothing to do here\n",
    "    .passthrough()\n",
    "    # Dropping null values from the dataset\n",
    "    .dropna()\n",
    "    # .rename(columns = {'test':'TEST'}, inplace = True)\n",
    "    .rename(columns = {'published_date': 'date', 'Theme Id': 'Claim_Id'})\n",
    "    # Convert argument to datetime.\n",
    "    .to_datetime('date')\n",
    ")\n",
    "social_media_data_clean.head()"
   ]
  },
  {
   "attachments": {},
   "cell_type": "markdown",
   "metadata": {},
   "source": [
    "#### SALES DATA TABLE"
   ]
  },
  {
   "cell_type": "code",
   "execution_count": 95,
   "metadata": {},
   "outputs": [
    {
     "data": {
      "text/html": [
       "<div>\n",
       "<style scoped>\n",
       "    .dataframe tbody tr th:only-of-type {\n",
       "        vertical-align: middle;\n",
       "    }\n",
       "\n",
       "    .dataframe tbody tr th {\n",
       "        vertical-align: top;\n",
       "    }\n",
       "\n",
       "    .dataframe thead th {\n",
       "        text-align: right;\n",
       "    }\n",
       "</style>\n",
       "<table border=\"1\" class=\"dataframe\">\n",
       "  <thead>\n",
       "    <tr style=\"text-align: right;\">\n",
       "      <th></th>\n",
       "      <th>date</th>\n",
       "      <th>product_id</th>\n",
       "      <th>sales_dollars_value</th>\n",
       "      <th>sales_units_value</th>\n",
       "      <th>sales_lbs_value</th>\n",
       "    </tr>\n",
       "  </thead>\n",
       "  <tbody>\n",
       "    <tr>\n",
       "      <th>0</th>\n",
       "      <td>2016-01-09</td>\n",
       "      <td>1</td>\n",
       "      <td>13927.0</td>\n",
       "      <td>934</td>\n",
       "      <td>18680</td>\n",
       "    </tr>\n",
       "    <tr>\n",
       "      <th>1</th>\n",
       "      <td>2016-01-09</td>\n",
       "      <td>3</td>\n",
       "      <td>10289.0</td>\n",
       "      <td>1592</td>\n",
       "      <td>28646</td>\n",
       "    </tr>\n",
       "    <tr>\n",
       "      <th>2</th>\n",
       "      <td>2016-01-09</td>\n",
       "      <td>4</td>\n",
       "      <td>357.0</td>\n",
       "      <td>22</td>\n",
       "      <td>440</td>\n",
       "    </tr>\n",
       "    <tr>\n",
       "      <th>3</th>\n",
       "      <td>2016-01-09</td>\n",
       "      <td>6</td>\n",
       "      <td>23113.0</td>\n",
       "      <td>2027</td>\n",
       "      <td>81088</td>\n",
       "    </tr>\n",
       "    <tr>\n",
       "      <th>4</th>\n",
       "      <td>2016-01-09</td>\n",
       "      <td>7</td>\n",
       "      <td>23177.0</td>\n",
       "      <td>3231</td>\n",
       "      <td>58164</td>\n",
       "    </tr>\n",
       "  </tbody>\n",
       "</table>\n",
       "</div>"
      ],
      "text/plain": [
       "        date  product_id  sales_dollars_value  sales_units_value  \\\n",
       "0 2016-01-09           1              13927.0                934   \n",
       "1 2016-01-09           3              10289.0               1592   \n",
       "2 2016-01-09           4                357.0                 22   \n",
       "3 2016-01-09           6              23113.0               2027   \n",
       "4 2016-01-09           7              23177.0               3231   \n",
       "\n",
       "   sales_lbs_value  \n",
       "0            18680  \n",
       "1            28646  \n",
       "2              440  \n",
       "3            81088  \n",
       "4            58164  "
      ]
     },
     "execution_count": 95,
     "metadata": {},
     "output_type": "execute_result"
    }
   ],
   "source": [
    "sales_data_clean = (\n",
    "    sales_data\n",
    "    # while iterating on testing, it's good to copy the dataset(or a subset)\n",
    "    # as the following steps will mutate the input dataframe. The copy should be\n",
    "    # removed in the production code to avoid introducing perf. bottlenecks.\n",
    "    .copy()\n",
    "    # set dtypes : nothing to do here\n",
    "    .passthrough()\n",
    "    # .rename(columns = {'test':'TEST'}, inplace = True)\n",
    "    .rename(columns = {'system_calendar_key_N': 'date'})\n",
    "\n",
    ")\n",
    "# Convert argument to datetime.\n",
    "sales_data_clean['date']=pd.to_datetime(sales_data_clean['date'].astype(str), format='%Y-%m-%d')\n",
    "sales_data_clean.head()\n"
   ]
  },
  {
   "attachments": {},
   "cell_type": "markdown",
   "metadata": {},
   "source": [
    "#### GOOGLE SEARCH TABLE"
   ]
  },
  {
   "cell_type": "code",
   "execution_count": 96,
   "metadata": {},
   "outputs": [
    {
     "data": {
      "text/html": [
       "<div>\n",
       "<style scoped>\n",
       "    .dataframe tbody tr th:only-of-type {\n",
       "        vertical-align: middle;\n",
       "    }\n",
       "\n",
       "    .dataframe tbody tr th {\n",
       "        vertical-align: top;\n",
       "    }\n",
       "\n",
       "    .dataframe thead th {\n",
       "        text-align: right;\n",
       "    }\n",
       "</style>\n",
       "<table border=\"1\" class=\"dataframe\">\n",
       "  <thead>\n",
       "    <tr style=\"text-align: right;\">\n",
       "      <th></th>\n",
       "      <th>date</th>\n",
       "      <th>platform</th>\n",
       "      <th>searchVolume</th>\n",
       "      <th>Claim_Id</th>\n",
       "    </tr>\n",
       "  </thead>\n",
       "  <tbody>\n",
       "    <tr>\n",
       "      <th>0</th>\n",
       "      <td>2014-01-05</td>\n",
       "      <td>google</td>\n",
       "      <td>349</td>\n",
       "      <td>916</td>\n",
       "    </tr>\n",
       "    <tr>\n",
       "      <th>1</th>\n",
       "      <td>2014-01-06</td>\n",
       "      <td>google</td>\n",
       "      <td>349</td>\n",
       "      <td>916</td>\n",
       "    </tr>\n",
       "    <tr>\n",
       "      <th>2</th>\n",
       "      <td>2014-01-07</td>\n",
       "      <td>google</td>\n",
       "      <td>697</td>\n",
       "      <td>916</td>\n",
       "    </tr>\n",
       "    <tr>\n",
       "      <th>3</th>\n",
       "      <td>2014-01-10</td>\n",
       "      <td>google</td>\n",
       "      <td>349</td>\n",
       "      <td>916</td>\n",
       "    </tr>\n",
       "    <tr>\n",
       "      <th>4</th>\n",
       "      <td>2014-01-20</td>\n",
       "      <td>google</td>\n",
       "      <td>697</td>\n",
       "      <td>916</td>\n",
       "    </tr>\n",
       "  </tbody>\n",
       "</table>\n",
       "</div>"
      ],
      "text/plain": [
       "        date platform  searchVolume  Claim_Id\n",
       "0 2014-01-05   google           349       916\n",
       "1 2014-01-06   google           349       916\n",
       "2 2014-01-07   google           697       916\n",
       "3 2014-01-10   google           349       916\n",
       "4 2014-01-20   google           697       916"
      ]
     },
     "execution_count": 96,
     "metadata": {},
     "output_type": "execute_result"
    }
   ],
   "source": [
    "google_search_data_clean = (\n",
    "    google_search_data\n",
    "    # while iterating on testing, it's good to copy the dataset(or a subset)\n",
    "    # as the following steps will mutate the input dataframe. The copy should be\n",
    "    # removed in the production code to avoid introducing perf. bottlenecks.\n",
    "    .copy()\n",
    "    # set dtypes : nothing to do here\n",
    "    .passthrough()\n",
    "\n",
    "    .drop(['year_new', 'week_number'], axis=1)\n",
    "    # .rename(columns = {'test':'TEST'}, inplace = True)\n",
    "    .rename(columns = {'Claim_ID': 'Claim_Id'})\n",
    "    # Convert argument to datetime.\n",
    "    .to_datetime('date', format='%d-%m-%Y')\n",
    ")\n",
    "google_search_data_clean.head()"
   ]
  },
  {
   "attachments": {},
   "cell_type": "markdown",
   "metadata": {},
   "source": [
    "#### PRODUCT MANUFACTURE TABLE"
   ]
  },
  {
   "cell_type": "code",
   "execution_count": 97,
   "metadata": {},
   "outputs": [
    {
     "data": {
      "text/html": [
       "<div>\n",
       "<style scoped>\n",
       "    .dataframe tbody tr th:only-of-type {\n",
       "        vertical-align: middle;\n",
       "    }\n",
       "\n",
       "    .dataframe tbody tr th {\n",
       "        vertical-align: top;\n",
       "    }\n",
       "\n",
       "    .dataframe thead th {\n",
       "        text-align: right;\n",
       "    }\n",
       "</style>\n",
       "<table border=\"1\" class=\"dataframe\">\n",
       "  <thead>\n",
       "    <tr style=\"text-align: right;\">\n",
       "      <th></th>\n",
       "      <th>product_id</th>\n",
       "      <th>Vendor</th>\n",
       "    </tr>\n",
       "  </thead>\n",
       "  <tbody>\n",
       "    <tr>\n",
       "      <th>0</th>\n",
       "      <td>1</td>\n",
       "      <td>Others</td>\n",
       "    </tr>\n",
       "    <tr>\n",
       "      <th>1</th>\n",
       "      <td>2</td>\n",
       "      <td>Others</td>\n",
       "    </tr>\n",
       "    <tr>\n",
       "      <th>2</th>\n",
       "      <td>3</td>\n",
       "      <td>Others</td>\n",
       "    </tr>\n",
       "    <tr>\n",
       "      <th>3</th>\n",
       "      <td>4</td>\n",
       "      <td>Others</td>\n",
       "    </tr>\n",
       "    <tr>\n",
       "      <th>4</th>\n",
       "      <td>5</td>\n",
       "      <td>Others</td>\n",
       "    </tr>\n",
       "  </tbody>\n",
       "</table>\n",
       "</div>"
      ],
      "text/plain": [
       "   product_id  Vendor\n",
       "0           1  Others\n",
       "1           2  Others\n",
       "2           3  Others\n",
       "3           4  Others\n",
       "4           5  Others"
      ]
     },
     "execution_count": 97,
     "metadata": {},
     "output_type": "execute_result"
    }
   ],
   "source": [
    "product_manufacturer_list_clean = (\n",
    "    product_manufacturer_list[['PRODUCT_ID','Vendor']]\n",
    "    # while iterating on testing, it's good to copy the dataset(or a subset)\n",
    "    # as the following steps will mutate the input dataframe. The copy should be\n",
    "    # removed in the production code to avoid introducing perf. bottlenecks.\n",
    "    .copy()\n",
    "    # set dtypes : nothing to do here\n",
    "    .passthrough()\n",
    "    # .rename(columns = {'test':'TEST'}, inplace = True)\n",
    "    .rename(columns = {'PRODUCT_ID': 'product_id'})\n",
    ")\n",
    "product_manufacturer_list_clean.head()"
   ]
  },
  {
   "attachments": {},
   "cell_type": "markdown",
   "metadata": {},
   "source": [
    "#### THEME PRODUCT LIST TABLE"
   ]
  },
  {
   "cell_type": "code",
   "execution_count": 98,
   "metadata": {},
   "outputs": [
    {
     "data": {
      "text/html": [
       "<div>\n",
       "<style scoped>\n",
       "    .dataframe tbody tr th:only-of-type {\n",
       "        vertical-align: middle;\n",
       "    }\n",
       "\n",
       "    .dataframe tbody tr th {\n",
       "        vertical-align: top;\n",
       "    }\n",
       "\n",
       "    .dataframe thead th {\n",
       "        text-align: right;\n",
       "    }\n",
       "</style>\n",
       "<table border=\"1\" class=\"dataframe\">\n",
       "  <thead>\n",
       "    <tr style=\"text-align: right;\">\n",
       "      <th></th>\n",
       "      <th>product_id</th>\n",
       "      <th>Claim_Id</th>\n",
       "    </tr>\n",
       "  </thead>\n",
       "  <tbody>\n",
       "    <tr>\n",
       "      <th>0</th>\n",
       "      <td>26</td>\n",
       "      <td>8</td>\n",
       "    </tr>\n",
       "    <tr>\n",
       "      <th>1</th>\n",
       "      <td>29</td>\n",
       "      <td>8</td>\n",
       "    </tr>\n",
       "    <tr>\n",
       "      <th>2</th>\n",
       "      <td>48</td>\n",
       "      <td>81</td>\n",
       "    </tr>\n",
       "    <tr>\n",
       "      <th>3</th>\n",
       "      <td>50</td>\n",
       "      <td>81</td>\n",
       "    </tr>\n",
       "    <tr>\n",
       "      <th>4</th>\n",
       "      <td>74</td>\n",
       "      <td>227</td>\n",
       "    </tr>\n",
       "  </tbody>\n",
       "</table>\n",
       "</div>"
      ],
      "text/plain": [
       "   product_id  Claim_Id\n",
       "0          26         8\n",
       "1          29         8\n",
       "2          48        81\n",
       "3          50        81\n",
       "4          74       227"
      ]
     },
     "execution_count": 98,
     "metadata": {},
     "output_type": "execute_result"
    }
   ],
   "source": [
    "theme_product_list_clean = (\n",
    "    Theme_product_list\n",
    "    # while iterating on testing, it's good to copy the dataset(or a subset)\n",
    "    # as the following steps will mutate the input dataframe. The copy should be\n",
    "    # removed in the production code to avoid introducing perf. bottlenecks.\n",
    "    .copy()\n",
    "    # set dtypes : nothing to do here\n",
    "    .passthrough()\n",
    "    # .rename(columns = {'test':'TEST'}, inplace = True)\n",
    "    .rename(columns = {'PRODUCT_ID': 'product_id', 'CLAIM_ID': 'Claim_Id'})\n",
    ")\n",
    "theme_product_list_clean.head()"
   ]
  },
  {
   "attachments": {},
   "cell_type": "markdown",
   "metadata": {},
   "source": [
    "#### THEME LIST TABLE"
   ]
  },
  {
   "cell_type": "code",
   "execution_count": 99,
   "metadata": {},
   "outputs": [
    {
     "data": {
      "text/html": [
       "<div>\n",
       "<style scoped>\n",
       "    .dataframe tbody tr th:only-of-type {\n",
       "        vertical-align: middle;\n",
       "    }\n",
       "\n",
       "    .dataframe tbody tr th {\n",
       "        vertical-align: top;\n",
       "    }\n",
       "\n",
       "    .dataframe thead th {\n",
       "        text-align: right;\n",
       "    }\n",
       "</style>\n",
       "<table border=\"1\" class=\"dataframe\">\n",
       "  <thead>\n",
       "    <tr style=\"text-align: right;\">\n",
       "      <th></th>\n",
       "      <th>Claim_Id</th>\n",
       "      <th>Claim_name</th>\n",
       "    </tr>\n",
       "  </thead>\n",
       "  <tbody>\n",
       "    <tr>\n",
       "      <th>0</th>\n",
       "      <td>0</td>\n",
       "      <td>No Claim</td>\n",
       "    </tr>\n",
       "    <tr>\n",
       "      <th>1</th>\n",
       "      <td>8</td>\n",
       "      <td>low carb</td>\n",
       "    </tr>\n",
       "    <tr>\n",
       "      <th>2</th>\n",
       "      <td>15</td>\n",
       "      <td>beans</td>\n",
       "    </tr>\n",
       "    <tr>\n",
       "      <th>3</th>\n",
       "      <td>16</td>\n",
       "      <td>cocoa</td>\n",
       "    </tr>\n",
       "    <tr>\n",
       "      <th>4</th>\n",
       "      <td>26</td>\n",
       "      <td>vanilla</td>\n",
       "    </tr>\n",
       "  </tbody>\n",
       "</table>\n",
       "</div>"
      ],
      "text/plain": [
       "   Claim_Id Claim_name\n",
       "0         0   No Claim\n",
       "1         8   low carb\n",
       "2        15      beans\n",
       "3        16      cocoa\n",
       "4        26    vanilla"
      ]
     },
     "execution_count": 99,
     "metadata": {},
     "output_type": "execute_result"
    }
   ],
   "source": [
    "theme_list_clean = (\n",
    "    Theme_list\n",
    "    # while iterating on testing, it's good to copy the dataset(or a subset)\n",
    "    # as the following steps will mutate the input dataframe. The copy should be\n",
    "    # removed in the production code to avoid introducing perf. bottlenecks.\n",
    "    .copy()\n",
    "    # set dtypes : nothing to do here\n",
    "    .passthrough()\n",
    "    # .rename(columns = {'test':'TEST'}, inplace = True)\n",
    "    .rename(columns = {'Claim Name': 'Claim_name', 'CLAIM_ID': 'Claim_Id'})\n",
    ")\n",
    "theme_list_clean.head()"
   ]
  },
  {
   "attachments": {},
   "cell_type": "markdown",
   "metadata": {},
   "source": [
    "### NOTE\n",
    "\n",
    "It's always a good idea to save cleaned tabular data using a storage format that supports the following \n",
    "\n",
    "1. preserves the type information\n",
    "2. language agnostic storage format\n",
    "3. Supports compression\n",
    "4. Supports customizing storage to optimize different data access patterns\n",
    "\n",
    "For larger datasets, the last two points become crucial.\n",
    "\n",
    "`Parquet` is one such file format that is very popular for storing tabular data. It has some nice properties:\n",
    "- Similar to pickles & RDS datasets, but compatible with all languages\n",
    "- Preserves the datatypes\n",
    "- Compresses the data and reduces the filesize\n",
    "- Good library support in Python and other languages\n",
    "- As a columnar storage we can efficiently read fewer columns\n",
    "- It also supports chunking data by groups of columns (for instance, by dates or a particular value of a key column) that makes loading subsets of the data fast."
   ]
  },
  {
   "cell_type": "code",
   "execution_count": 100,
   "metadata": {},
   "outputs": [],
   "source": [
    "save_dataset(context, google_search_data_clean, '/cleaned/google')\n",
    "save_dataset(context, product_manufacturer_list_clean, '/cleaned/product')\n",
    "save_dataset(context, sales_data_clean, '/cleaned/sales')\n",
    "save_dataset(context, social_media_data_clean, '/cleaned/social_media')\n",
    "save_dataset(context, theme_list_clean, '/cleaned/Theme_list')\n",
    "save_dataset(context, theme_product_list_clean, '/cleaned/Theme_Product_list')\n"
   ]
  },
  {
   "attachments": {},
   "cell_type": "markdown",
   "metadata": {},
   "source": [
    "### Sales Table\n",
    "\n",
    "From data discovery, we know the following\n",
    "\n",
    "* key columns: None\n",
    "* integer columns: product_id, sales_dollars_value, sales_units_value, sales_lbs_value\n",
    "* datetime columns:  date\n",
    "* This will go into production code"
   ]
  },
  {
   "attachments": {},
   "cell_type": "markdown",
   "metadata": {},
   "source": [
    "## 2.2 Create consolidated features table\n",
    "\n",
    "\n",
    "Here we take the cleaned dataframes and merge them to form the consolidated table.\n",
    "\n",
    "We know from data discovery that `sales_data` is a dimension table and `product_manufacturer_list` is a fact table, so we want to do a inner join here. * This will go into sales_product_data"
   ]
  },
  {
   "cell_type": "code",
   "execution_count": 101,
   "metadata": {},
   "outputs": [
    {
     "data": {
      "text/html": [
       "<div>\n",
       "<style scoped>\n",
       "    .dataframe tbody tr th:only-of-type {\n",
       "        vertical-align: middle;\n",
       "    }\n",
       "\n",
       "    .dataframe tbody tr th {\n",
       "        vertical-align: top;\n",
       "    }\n",
       "\n",
       "    .dataframe thead th {\n",
       "        text-align: right;\n",
       "    }\n",
       "</style>\n",
       "<table border=\"1\" class=\"dataframe\">\n",
       "  <thead>\n",
       "    <tr style=\"text-align: right;\">\n",
       "      <th></th>\n",
       "      <th>n_cols</th>\n",
       "      <th>n_rows</th>\n",
       "    </tr>\n",
       "  </thead>\n",
       "  <tbody>\n",
       "    <tr>\n",
       "      <th>left_df</th>\n",
       "      <td>5</td>\n",
       "      <td>4526182</td>\n",
       "    </tr>\n",
       "    <tr>\n",
       "      <th>right_df</th>\n",
       "      <td>2</td>\n",
       "      <td>67175</td>\n",
       "    </tr>\n",
       "    <tr>\n",
       "      <th>merged_df</th>\n",
       "      <td>6</td>\n",
       "      <td>4526182</td>\n",
       "    </tr>\n",
       "  </tbody>\n",
       "</table>\n",
       "</div>"
      ],
      "text/plain": [
       "           n_cols   n_rows\n",
       "left_df         5  4526182\n",
       "right_df        2    67175\n",
       "merged_df       6  4526182"
      ]
     },
     "execution_count": 101,
     "metadata": {},
     "output_type": "execute_result"
    }
   ],
   "source": [
    "sales_product_data = pd.merge(sales_data_clean, product_manufacturer_list_clean, how='inner', on='product_id')\n",
    "merge_info(sales_data_clean, product_manufacturer_list_clean, sales_product_data)"
   ]
  },
  {
   "cell_type": "code",
   "execution_count": 102,
   "metadata": {},
   "outputs": [
    {
     "data": {
      "text/html": [
       "<div>\n",
       "<style scoped>\n",
       "    .dataframe tbody tr th:only-of-type {\n",
       "        vertical-align: middle;\n",
       "    }\n",
       "\n",
       "    .dataframe tbody tr th {\n",
       "        vertical-align: top;\n",
       "    }\n",
       "\n",
       "    .dataframe thead th {\n",
       "        text-align: right;\n",
       "    }\n",
       "</style>\n",
       "<table border=\"1\" class=\"dataframe\">\n",
       "  <thead>\n",
       "    <tr style=\"text-align: right;\">\n",
       "      <th></th>\n",
       "      <th>n_cols</th>\n",
       "      <th>n_rows</th>\n",
       "    </tr>\n",
       "  </thead>\n",
       "  <tbody>\n",
       "    <tr>\n",
       "      <th>left_df</th>\n",
       "      <td>7</td>\n",
       "      <td>7767420</td>\n",
       "    </tr>\n",
       "    <tr>\n",
       "      <th>right_df</th>\n",
       "      <td>2</td>\n",
       "      <td>91485</td>\n",
       "    </tr>\n",
       "    <tr>\n",
       "      <th>merged_df</th>\n",
       "      <td>7</td>\n",
       "      <td>7767420</td>\n",
       "    </tr>\n",
       "  </tbody>\n",
       "</table>\n",
       "</div>"
      ],
      "text/plain": [
       "           n_cols   n_rows\n",
       "left_df         7  7767420\n",
       "right_df        2    91485\n",
       "merged_df       7  7767420"
      ]
     },
     "execution_count": 102,
     "metadata": {},
     "output_type": "execute_result"
    }
   ],
   "source": [
    "sales_product_data = pd.merge(sales_product_data, theme_product_list_clean, how='inner', on='product_id', validate='m:m')\n",
    "merge_info(sales_product_data, theme_product_list_clean, sales_product_data)"
   ]
  },
  {
   "cell_type": "code",
   "execution_count": 103,
   "metadata": {},
   "outputs": [
    {
     "data": {
      "text/html": [
       "<div>\n",
       "<style scoped>\n",
       "    .dataframe tbody tr th:only-of-type {\n",
       "        vertical-align: middle;\n",
       "    }\n",
       "\n",
       "    .dataframe tbody tr th {\n",
       "        vertical-align: top;\n",
       "    }\n",
       "\n",
       "    .dataframe thead th {\n",
       "        text-align: right;\n",
       "    }\n",
       "</style>\n",
       "<table border=\"1\" class=\"dataframe\">\n",
       "  <thead>\n",
       "    <tr style=\"text-align: right;\">\n",
       "      <th></th>\n",
       "      <th>n_cols</th>\n",
       "      <th>n_rows</th>\n",
       "    </tr>\n",
       "  </thead>\n",
       "  <tbody>\n",
       "    <tr>\n",
       "      <th>left_df</th>\n",
       "      <td>8</td>\n",
       "      <td>7767420</td>\n",
       "    </tr>\n",
       "    <tr>\n",
       "      <th>right_df</th>\n",
       "      <td>2</td>\n",
       "      <td>208</td>\n",
       "    </tr>\n",
       "    <tr>\n",
       "      <th>merged_df</th>\n",
       "      <td>8</td>\n",
       "      <td>7767420</td>\n",
       "    </tr>\n",
       "  </tbody>\n",
       "</table>\n",
       "</div>"
      ],
      "text/plain": [
       "           n_cols   n_rows\n",
       "left_df         8  7767420\n",
       "right_df        2      208\n",
       "merged_df       8  7767420"
      ]
     },
     "execution_count": 103,
     "metadata": {},
     "output_type": "execute_result"
    }
   ],
   "source": [
    "sales_product_data = pd.merge(sales_product_data, theme_list_clean, how='inner', on='Claim_Id', validate='m:1')\n",
    "merge_info(sales_product_data, theme_list_clean, sales_product_data)"
   ]
  },
  {
   "attachments": {},
   "cell_type": "markdown",
   "metadata": {},
   "source": [
    "## 2.3 Business intuition features\n",
    "\n",
    "This section can go into production code if these features are used in final model"
   ]
  },
  {
   "attachments": {},
   "cell_type": "markdown",
   "metadata": {},
   "source": [
    "#### Product id.\n",
    "- Product id is the description of the product"
   ]
  },
  {
   "cell_type": "code",
   "execution_count": 104,
   "metadata": {},
   "outputs": [],
   "source": [
    "# Dropping the Product ID \n",
    "sales_product_data2 = (\n",
    "    sales_product_data\n",
    "    .copy()\n",
    "    .drop('product_id', axis=1)\n",
    ")"
   ]
  },
  {
   "cell_type": "code",
   "execution_count": 105,
   "metadata": {},
   "outputs": [],
   "source": [
    "# Calculating the unit price per unit for all of the vendors\n",
    "sales_product_data2['per_unit_price'] = sales_product_data2['sales_dollars_value']/sales_product_data2['sales_units_value']"
   ]
  },
  {
   "cell_type": "code",
   "execution_count": 106,
   "metadata": {},
   "outputs": [],
   "source": [
    "# Finding the unit price for every client\n",
    "client_A_sales = sales_product_data2[sales_product_data2['Vendor'] == 'A'].groupby(['date', 'Claim_Id', 'Claim_name']).agg({'sales_dollars_value':'sum', 'sales_units_value':'sum', 'sales_lbs_value':'sum', 'per_unit_price':'mean'}).reset_index().rename(columns={'sales_dollars_value': 'client_A_sales_dollars_value', 'sales_units_value': 'Client_A_sales_units_value', 'sales_lbs_value': 'client_A_sales_lbs_value', 'per_unit_price': 'Client_A_sales_unit_price'})\n",
    "client_B_sales = sales_product_data2[sales_product_data2['Vendor'] == 'B'].groupby(['date', 'Claim_Id', 'Claim_name']).agg({'per_unit_price':'mean'}).reset_index().rename(columns={'per_unit_price': 'B_sales_unit_price'})\n",
    "client_E_sales = sales_product_data2[sales_product_data2['Vendor'] == 'E'].groupby(['date', 'Claim_Id', 'Claim_name']).agg({'per_unit_price':'mean'}).reset_index().rename(columns={'per_unit_price': 'E_sales_unit_price'})\n",
    "client_D_sales = sales_product_data2[sales_product_data2['Vendor'] == 'D'].groupby(['date', 'Claim_Id', 'Claim_name']).agg({'per_unit_price':'mean'}).reset_index().rename(columns={'per_unit_price': 'D_sales_unit_price'})\n",
    "client_F_sales = sales_product_data2[sales_product_data2['Vendor'] == 'F'].groupby(['date', 'Claim_Id', 'Claim_name']).agg({'per_unit_price':'mean'}).reset_index().rename(columns={'per_unit_price': 'F_sales_unit_price'})\n",
    "client_G_sales = sales_product_data2[sales_product_data2['Vendor'] == 'G'].groupby(['date', 'Claim_Id', 'Claim_name']).agg({'per_unit_price':'mean'}).reset_index().rename(columns={'per_unit_price': 'G_sales_unit_price'})\n",
    "client_H_sales = sales_product_data2[sales_product_data2['Vendor'] == 'H'].groupby(['date', 'Claim_Id', 'Claim_name']).agg({'per_unit_price':'mean'}).reset_index().rename(columns={'per_unit_price': 'H_sales_unit_price'})\n",
    "client_Private_sales = sales_product_data2[sales_product_data2['Vendor'] == 'Private Label'].groupby(['date', 'Claim_Id', 'Claim_name']).agg({'per_unit_price':'mean'}).reset_index().rename(columns={'per_unit_price': 'Private_sales_unit_price'})\n",
    "client_other_sales = sales_product_data2[sales_product_data2['Vendor'] == 'Others'].groupby(['date', 'Claim_Id', 'Claim_name']).agg({'per_unit_price':'mean'}).reset_index().rename(columns={'per_unit_price': 'others_sales_unit_price'})"
   ]
  },
  {
   "attachments": {},
   "cell_type": "markdown",
   "metadata": {},
   "source": [
    "####  Merging the client unit price in our dataframe for comparison"
   ]
  },
  {
   "cell_type": "code",
   "execution_count": 107,
   "metadata": {},
   "outputs": [],
   "source": [
    "A_B_sales = client_A_sales.merge(client_B_sales, on=['date', 'Claim_Id', 'Claim_name'], how='left')"
   ]
  },
  {
   "cell_type": "code",
   "execution_count": 108,
   "metadata": {},
   "outputs": [
    {
     "name": "stdout",
     "output_type": "stream",
     "text": [
      "(5774, 9)\n"
     ]
    }
   ],
   "source": [
    "A_B_E_sales = A_B_sales.merge(client_E_sales, on=['date', 'Claim_Id', 'Claim_name'], how='left')\n",
    "print(A_B_E_sales.shape)"
   ]
  },
  {
   "cell_type": "code",
   "execution_count": 109,
   "metadata": {},
   "outputs": [
    {
     "name": "stdout",
     "output_type": "stream",
     "text": [
      "(5774, 10)\n"
     ]
    }
   ],
   "source": [
    "A_B_E_D_sales = A_B_E_sales.merge(client_D_sales, on=['date', 'Claim_Id', 'Claim_name'], how='left')\n",
    "print(A_B_E_D_sales.shape)"
   ]
  },
  {
   "cell_type": "code",
   "execution_count": 110,
   "metadata": {},
   "outputs": [
    {
     "name": "stdout",
     "output_type": "stream",
     "text": [
      "(5774, 11)\n"
     ]
    }
   ],
   "source": [
    "A_B_E_D_F_sales = A_B_E_D_sales.merge(client_F_sales, on=['date', 'Claim_Id', 'Claim_name'], how='left')\n",
    "print(A_B_E_D_F_sales.shape)"
   ]
  },
  {
   "cell_type": "code",
   "execution_count": 111,
   "metadata": {},
   "outputs": [
    {
     "name": "stdout",
     "output_type": "stream",
     "text": [
      "(5774, 12)\n"
     ]
    }
   ],
   "source": [
    "A_B_E_D_F_G_sales = A_B_E_D_F_sales.merge(client_G_sales, on=['date', 'Claim_Id', 'Claim_name'], how='left')\n",
    "print(A_B_E_D_F_G_sales.shape)"
   ]
  },
  {
   "cell_type": "code",
   "execution_count": 112,
   "metadata": {},
   "outputs": [
    {
     "name": "stdout",
     "output_type": "stream",
     "text": [
      "(5774, 13)\n"
     ]
    }
   ],
   "source": [
    "A_B_E_D_F_G_H_sales = A_B_E_D_F_G_sales.merge(client_H_sales, on=['date', 'Claim_Id', 'Claim_name'], how='left')\n",
    "print(A_B_E_D_F_G_H_sales.shape)"
   ]
  },
  {
   "cell_type": "code",
   "execution_count": 113,
   "metadata": {},
   "outputs": [
    {
     "name": "stdout",
     "output_type": "stream",
     "text": [
      "(5774, 14)\n"
     ]
    }
   ],
   "source": [
    "A_B_E_D_F_G_H__Private_sales = A_B_E_D_F_G_H_sales.merge(client_Private_sales, on=['date', 'Claim_Id', 'Claim_name'], how='left')\n",
    "print(A_B_E_D_F_G_H__Private_sales.shape)"
   ]
  },
  {
   "cell_type": "code",
   "execution_count": 114,
   "metadata": {},
   "outputs": [
    {
     "name": "stdout",
     "output_type": "stream",
     "text": [
      "(5774, 15)\n"
     ]
    }
   ],
   "source": [
    "sales_data_processed = A_B_E_D_F_G_H__Private_sales.merge(client_other_sales, on=['date', 'Claim_Id', 'Claim_name'], how='left')\n",
    "print(sales_data_processed.shape)"
   ]
  },
  {
   "cell_type": "code",
   "execution_count": 115,
   "metadata": {},
   "outputs": [
    {
     "data": {
      "text/html": [
       "<div>\n",
       "<style scoped>\n",
       "    .dataframe tbody tr th:only-of-type {\n",
       "        vertical-align: middle;\n",
       "    }\n",
       "\n",
       "    .dataframe tbody tr th {\n",
       "        vertical-align: top;\n",
       "    }\n",
       "\n",
       "    .dataframe thead th {\n",
       "        text-align: right;\n",
       "    }\n",
       "</style>\n",
       "<table border=\"1\" class=\"dataframe\">\n",
       "  <thead>\n",
       "    <tr style=\"text-align: right;\">\n",
       "      <th></th>\n",
       "      <th>date</th>\n",
       "      <th>Claim_Id</th>\n",
       "      <th>Claim_name</th>\n",
       "      <th>client_A_sales_dollars_value</th>\n",
       "      <th>Client_A_sales_units_value</th>\n",
       "      <th>client_A_sales_lbs_value</th>\n",
       "      <th>Client_A_sales_unit_price</th>\n",
       "      <th>B_sales_unit_price</th>\n",
       "      <th>E_sales_unit_price</th>\n",
       "      <th>D_sales_unit_price</th>\n",
       "      <th>F_sales_unit_price</th>\n",
       "      <th>G_sales_unit_price</th>\n",
       "      <th>H_sales_unit_price</th>\n",
       "      <th>Private_sales_unit_price</th>\n",
       "      <th>others_sales_unit_price</th>\n",
       "    </tr>\n",
       "  </thead>\n",
       "  <tbody>\n",
       "    <tr>\n",
       "      <th>0</th>\n",
       "      <td>2016-01-09</td>\n",
       "      <td>0</td>\n",
       "      <td>No Claim</td>\n",
       "      <td>132979903.0</td>\n",
       "      <td>57169562</td>\n",
       "      <td>136475132</td>\n",
       "      <td>7.048409</td>\n",
       "      <td>9.858631</td>\n",
       "      <td>11.727692</td>\n",
       "      <td>7.057042</td>\n",
       "      <td>16.829154</td>\n",
       "      <td>11.986452</td>\n",
       "      <td>13.335306</td>\n",
       "      <td>5.557718</td>\n",
       "      <td>10.752635</td>\n",
       "    </tr>\n",
       "    <tr>\n",
       "      <th>1</th>\n",
       "      <td>2016-01-09</td>\n",
       "      <td>8</td>\n",
       "      <td>low carb</td>\n",
       "      <td>8853853.0</td>\n",
       "      <td>1952575</td>\n",
       "      <td>2947044</td>\n",
       "      <td>11.837333</td>\n",
       "      <td>16.159491</td>\n",
       "      <td>0.000000</td>\n",
       "      <td>14.633429</td>\n",
       "      <td>18.921083</td>\n",
       "      <td>0.000000</td>\n",
       "      <td>13.990691</td>\n",
       "      <td>11.899578</td>\n",
       "      <td>15.345391</td>\n",
       "    </tr>\n",
       "    <tr>\n",
       "      <th>2</th>\n",
       "      <td>2016-01-09</td>\n",
       "      <td>15</td>\n",
       "      <td>beans</td>\n",
       "      <td>6015.0</td>\n",
       "      <td>326</td>\n",
       "      <td>1793</td>\n",
       "      <td>18.450920</td>\n",
       "      <td>0.000000</td>\n",
       "      <td>0.000000</td>\n",
       "      <td>51.829144</td>\n",
       "      <td>0.000000</td>\n",
       "      <td>0.000000</td>\n",
       "      <td>0.000000</td>\n",
       "      <td>11.006135</td>\n",
       "      <td>21.444175</td>\n",
       "    </tr>\n",
       "    <tr>\n",
       "      <th>3</th>\n",
       "      <td>2016-01-09</td>\n",
       "      <td>32</td>\n",
       "      <td>stroganoff</td>\n",
       "      <td>7482235.0</td>\n",
       "      <td>1168180</td>\n",
       "      <td>3642177</td>\n",
       "      <td>17.630763</td>\n",
       "      <td>21.507496</td>\n",
       "      <td>0.000000</td>\n",
       "      <td>15.876835</td>\n",
       "      <td>19.190919</td>\n",
       "      <td>0.000000</td>\n",
       "      <td>20.359431</td>\n",
       "      <td>0.000000</td>\n",
       "      <td>16.407875</td>\n",
       "    </tr>\n",
       "    <tr>\n",
       "      <th>4</th>\n",
       "      <td>2016-01-09</td>\n",
       "      <td>39</td>\n",
       "      <td>high/source of protein</td>\n",
       "      <td>69542.0</td>\n",
       "      <td>19753</td>\n",
       "      <td>21040</td>\n",
       "      <td>11.576619</td>\n",
       "      <td>0.000000</td>\n",
       "      <td>0.000000</td>\n",
       "      <td>0.000000</td>\n",
       "      <td>0.000000</td>\n",
       "      <td>0.000000</td>\n",
       "      <td>0.000000</td>\n",
       "      <td>0.000000</td>\n",
       "      <td>27.462380</td>\n",
       "    </tr>\n",
       "  </tbody>\n",
       "</table>\n",
       "</div>"
      ],
      "text/plain": [
       "        date  Claim_Id              Claim_name  client_A_sales_dollars_value  \\\n",
       "0 2016-01-09         0                No Claim                   132979903.0   \n",
       "1 2016-01-09         8                low carb                     8853853.0   \n",
       "2 2016-01-09        15                   beans                        6015.0   \n",
       "3 2016-01-09        32              stroganoff                     7482235.0   \n",
       "4 2016-01-09        39  high/source of protein                       69542.0   \n",
       "\n",
       "   Client_A_sales_units_value  client_A_sales_lbs_value  \\\n",
       "0                    57169562                 136475132   \n",
       "1                     1952575                   2947044   \n",
       "2                         326                      1793   \n",
       "3                     1168180                   3642177   \n",
       "4                       19753                     21040   \n",
       "\n",
       "   Client_A_sales_unit_price  B_sales_unit_price  E_sales_unit_price  \\\n",
       "0                   7.048409            9.858631           11.727692   \n",
       "1                  11.837333           16.159491            0.000000   \n",
       "2                  18.450920            0.000000            0.000000   \n",
       "3                  17.630763           21.507496            0.000000   \n",
       "4                  11.576619            0.000000            0.000000   \n",
       "\n",
       "   D_sales_unit_price  F_sales_unit_price  G_sales_unit_price  \\\n",
       "0            7.057042           16.829154           11.986452   \n",
       "1           14.633429           18.921083            0.000000   \n",
       "2           51.829144            0.000000            0.000000   \n",
       "3           15.876835           19.190919            0.000000   \n",
       "4            0.000000            0.000000            0.000000   \n",
       "\n",
       "   H_sales_unit_price  Private_sales_unit_price  others_sales_unit_price  \n",
       "0           13.335306                  5.557718                10.752635  \n",
       "1           13.990691                 11.899578                15.345391  \n",
       "2            0.000000                 11.006135                21.444175  \n",
       "3           20.359431                  0.000000                16.407875  \n",
       "4            0.000000                  0.000000                27.462380  "
      ]
     },
     "execution_count": 115,
     "metadata": {},
     "output_type": "execute_result"
    }
   ],
   "source": [
    "sales_data_processed.fillna(0, inplace=True)\n",
    "sales_data_processed.head()"
   ]
  },
  {
   "cell_type": "code",
   "execution_count": 116,
   "metadata": {},
   "outputs": [
    {
     "data": {
      "text/html": [
       "<div>\n",
       "<style scoped>\n",
       "    .dataframe tbody tr th:only-of-type {\n",
       "        vertical-align: middle;\n",
       "    }\n",
       "\n",
       "    .dataframe tbody tr th {\n",
       "        vertical-align: top;\n",
       "    }\n",
       "\n",
       "    .dataframe thead th {\n",
       "        text-align: right;\n",
       "    }\n",
       "</style>\n",
       "<table border=\"1\" class=\"dataframe\">\n",
       "  <thead>\n",
       "    <tr style=\"text-align: right;\">\n",
       "      <th></th>\n",
       "      <th>Claim_Id</th>\n",
       "      <th>date</th>\n",
       "      <th>total_post</th>\n",
       "      <th>Claim_name</th>\n",
       "    </tr>\n",
       "  </thead>\n",
       "  <tbody>\n",
       "    <tr>\n",
       "      <th>0</th>\n",
       "      <td>148.0</td>\n",
       "      <td>2015-10-01</td>\n",
       "      <td>76</td>\n",
       "      <td>tuna</td>\n",
       "    </tr>\n",
       "    <tr>\n",
       "      <th>1</th>\n",
       "      <td>148.0</td>\n",
       "      <td>2015-10-10</td>\n",
       "      <td>31</td>\n",
       "      <td>tuna</td>\n",
       "    </tr>\n",
       "    <tr>\n",
       "      <th>2</th>\n",
       "      <td>148.0</td>\n",
       "      <td>2015-10-11</td>\n",
       "      <td>65</td>\n",
       "      <td>tuna</td>\n",
       "    </tr>\n",
       "    <tr>\n",
       "      <th>3</th>\n",
       "      <td>148.0</td>\n",
       "      <td>2015-10-12</td>\n",
       "      <td>88</td>\n",
       "      <td>tuna</td>\n",
       "    </tr>\n",
       "    <tr>\n",
       "      <th>4</th>\n",
       "      <td>148.0</td>\n",
       "      <td>2015-10-13</td>\n",
       "      <td>85</td>\n",
       "      <td>tuna</td>\n",
       "    </tr>\n",
       "    <tr>\n",
       "      <th>...</th>\n",
       "      <td>...</td>\n",
       "      <td>...</td>\n",
       "      <td>...</td>\n",
       "      <td>...</td>\n",
       "    </tr>\n",
       "    <tr>\n",
       "      <th>314874</th>\n",
       "      <td>876.0</td>\n",
       "      <td>2019-09-05</td>\n",
       "      <td>4658</td>\n",
       "      <td>caramel</td>\n",
       "    </tr>\n",
       "    <tr>\n",
       "      <th>314875</th>\n",
       "      <td>876.0</td>\n",
       "      <td>2019-09-06</td>\n",
       "      <td>3731</td>\n",
       "      <td>caramel</td>\n",
       "    </tr>\n",
       "    <tr>\n",
       "      <th>314876</th>\n",
       "      <td>876.0</td>\n",
       "      <td>2019-09-07</td>\n",
       "      <td>2336</td>\n",
       "      <td>caramel</td>\n",
       "    </tr>\n",
       "    <tr>\n",
       "      <th>314877</th>\n",
       "      <td>876.0</td>\n",
       "      <td>2019-09-08</td>\n",
       "      <td>1374</td>\n",
       "      <td>caramel</td>\n",
       "    </tr>\n",
       "    <tr>\n",
       "      <th>314878</th>\n",
       "      <td>876.0</td>\n",
       "      <td>2019-09-09</td>\n",
       "      <td>1442</td>\n",
       "      <td>caramel</td>\n",
       "    </tr>\n",
       "  </tbody>\n",
       "</table>\n",
       "<p>314879 rows × 4 columns</p>\n",
       "</div>"
      ],
      "text/plain": [
       "        Claim_Id       date  total_post Claim_name\n",
       "0          148.0 2015-10-01          76       tuna\n",
       "1          148.0 2015-10-10          31       tuna\n",
       "2          148.0 2015-10-11          65       tuna\n",
       "3          148.0 2015-10-12          88       tuna\n",
       "4          148.0 2015-10-13          85       tuna\n",
       "...          ...        ...         ...        ...\n",
       "314874     876.0 2019-09-05        4658    caramel\n",
       "314875     876.0 2019-09-06        3731    caramel\n",
       "314876     876.0 2019-09-07        2336    caramel\n",
       "314877     876.0 2019-09-08        1374    caramel\n",
       "314878     876.0 2019-09-09        1442    caramel\n",
       "\n",
       "[314879 rows x 4 columns]"
      ]
     },
     "execution_count": 116,
     "metadata": {},
     "output_type": "execute_result"
    }
   ],
   "source": [
    "social_media_data_processed = social_media_data_clean.merge(theme_list_clean, on='Claim_Id')\n",
    "social_media_data_processed"
   ]
  },
  {
   "cell_type": "code",
   "execution_count": 117,
   "metadata": {},
   "outputs": [],
   "source": [
    "social_media_data_processed.set_index('date', inplace=True)"
   ]
  },
  {
   "attachments": {},
   "cell_type": "markdown",
   "metadata": {},
   "source": [
    "#### Making the claim Id, Name as unique features\n",
    "- features represent the unique identification of the product."
   ]
  },
  {
   "cell_type": "code",
   "execution_count": 118,
   "metadata": {},
   "outputs": [
    {
     "data": {
      "text/html": [
       "<div>\n",
       "<style scoped>\n",
       "    .dataframe tbody tr th:only-of-type {\n",
       "        vertical-align: middle;\n",
       "    }\n",
       "\n",
       "    .dataframe tbody tr th {\n",
       "        vertical-align: top;\n",
       "    }\n",
       "\n",
       "    .dataframe thead th {\n",
       "        text-align: right;\n",
       "    }\n",
       "</style>\n",
       "<table border=\"1\" class=\"dataframe\">\n",
       "  <thead>\n",
       "    <tr style=\"text-align: right;\">\n",
       "      <th></th>\n",
       "      <th>Claim_Id</th>\n",
       "      <th>Claim_name</th>\n",
       "      <th>date</th>\n",
       "      <th>total_post</th>\n",
       "    </tr>\n",
       "  </thead>\n",
       "  <tbody>\n",
       "    <tr>\n",
       "      <th>0</th>\n",
       "      <td>8.0</td>\n",
       "      <td>low carb</td>\n",
       "      <td>2015-05-23</td>\n",
       "      <td>307</td>\n",
       "    </tr>\n",
       "    <tr>\n",
       "      <th>1</th>\n",
       "      <td>8.0</td>\n",
       "      <td>low carb</td>\n",
       "      <td>2015-05-30</td>\n",
       "      <td>923</td>\n",
       "    </tr>\n",
       "    <tr>\n",
       "      <th>2</th>\n",
       "      <td>8.0</td>\n",
       "      <td>low carb</td>\n",
       "      <td>2015-06-06</td>\n",
       "      <td>1705</td>\n",
       "    </tr>\n",
       "    <tr>\n",
       "      <th>3</th>\n",
       "      <td>8.0</td>\n",
       "      <td>low carb</td>\n",
       "      <td>2015-06-13</td>\n",
       "      <td>1089</td>\n",
       "    </tr>\n",
       "    <tr>\n",
       "      <th>4</th>\n",
       "      <td>8.0</td>\n",
       "      <td>low carb</td>\n",
       "      <td>2015-06-20</td>\n",
       "      <td>913</td>\n",
       "    </tr>\n",
       "    <tr>\n",
       "      <th>...</th>\n",
       "      <td>...</td>\n",
       "      <td>...</td>\n",
       "      <td>...</td>\n",
       "      <td>...</td>\n",
       "    </tr>\n",
       "    <tr>\n",
       "      <th>44738</th>\n",
       "      <td>999.0</td>\n",
       "      <td>oral health</td>\n",
       "      <td>2019-10-05</td>\n",
       "      <td>146</td>\n",
       "    </tr>\n",
       "    <tr>\n",
       "      <th>44739</th>\n",
       "      <td>999.0</td>\n",
       "      <td>oral health</td>\n",
       "      <td>2019-10-12</td>\n",
       "      <td>166</td>\n",
       "    </tr>\n",
       "    <tr>\n",
       "      <th>44740</th>\n",
       "      <td>999.0</td>\n",
       "      <td>oral health</td>\n",
       "      <td>2019-10-19</td>\n",
       "      <td>139</td>\n",
       "    </tr>\n",
       "    <tr>\n",
       "      <th>44741</th>\n",
       "      <td>999.0</td>\n",
       "      <td>oral health</td>\n",
       "      <td>2019-10-26</td>\n",
       "      <td>131</td>\n",
       "    </tr>\n",
       "    <tr>\n",
       "      <th>44742</th>\n",
       "      <td>999.0</td>\n",
       "      <td>oral health</td>\n",
       "      <td>2019-11-02</td>\n",
       "      <td>84</td>\n",
       "    </tr>\n",
       "  </tbody>\n",
       "</table>\n",
       "<p>44743 rows × 4 columns</p>\n",
       "</div>"
      ],
      "text/plain": [
       "       Claim_Id   Claim_name       date  total_post\n",
       "0           8.0     low carb 2015-05-23         307\n",
       "1           8.0     low carb 2015-05-30         923\n",
       "2           8.0     low carb 2015-06-06        1705\n",
       "3           8.0     low carb 2015-06-13        1089\n",
       "4           8.0     low carb 2015-06-20         913\n",
       "...         ...          ...        ...         ...\n",
       "44738     999.0  oral health 2019-10-05         146\n",
       "44739     999.0  oral health 2019-10-12         166\n",
       "44740     999.0  oral health 2019-10-19         139\n",
       "44741     999.0  oral health 2019-10-26         131\n",
       "44742     999.0  oral health 2019-11-02          84\n",
       "\n",
       "[44743 rows x 4 columns]"
      ]
     },
     "execution_count": 118,
     "metadata": {},
     "output_type": "execute_result"
    }
   ],
   "source": [
    "#### Unique Claim_name\n",
    "social_media_data_processed = social_media_data_processed.groupby(['Claim_Id','Claim_name',\n",
    "                                                pd.Grouper(freq='W-SAT', closed='right', label='right')]).sum()\n",
    "social_media_data_processed = social_media_data_processed.reset_index()\n",
    "social_media_data_processed"
   ]
  },
  {
   "cell_type": "code",
   "execution_count": 119,
   "metadata": {},
   "outputs": [],
   "source": [
    "google_search_data2 = google_search_data_clean.merge(theme_list_clean, on='Claim_Id')"
   ]
  },
  {
   "cell_type": "code",
   "execution_count": 120,
   "metadata": {},
   "outputs": [
    {
     "data": {
      "text/html": [
       "<div>\n",
       "<style scoped>\n",
       "    .dataframe tbody tr th:only-of-type {\n",
       "        vertical-align: middle;\n",
       "    }\n",
       "\n",
       "    .dataframe tbody tr th {\n",
       "        vertical-align: top;\n",
       "    }\n",
       "\n",
       "    .dataframe thead th {\n",
       "        text-align: right;\n",
       "    }\n",
       "</style>\n",
       "<table border=\"1\" class=\"dataframe\">\n",
       "  <thead>\n",
       "    <tr style=\"text-align: right;\">\n",
       "      <th></th>\n",
       "      <th>platform</th>\n",
       "      <th>Claim_Id</th>\n",
       "      <th>Claim_name</th>\n",
       "      <th>date</th>\n",
       "      <th>searchVolume</th>\n",
       "    </tr>\n",
       "  </thead>\n",
       "  <tbody>\n",
       "    <tr>\n",
       "      <th>0</th>\n",
       "      <td>amazon</td>\n",
       "      <td>8</td>\n",
       "      <td>low carb</td>\n",
       "      <td>2018-01-06</td>\n",
       "      <td>12042</td>\n",
       "    </tr>\n",
       "    <tr>\n",
       "      <th>1</th>\n",
       "      <td>amazon</td>\n",
       "      <td>8</td>\n",
       "      <td>low carb</td>\n",
       "      <td>2018-01-13</td>\n",
       "      <td>12631</td>\n",
       "    </tr>\n",
       "    <tr>\n",
       "      <th>2</th>\n",
       "      <td>amazon</td>\n",
       "      <td>8</td>\n",
       "      <td>low carb</td>\n",
       "      <td>2018-01-20</td>\n",
       "      <td>12544</td>\n",
       "    </tr>\n",
       "    <tr>\n",
       "      <th>3</th>\n",
       "      <td>amazon</td>\n",
       "      <td>8</td>\n",
       "      <td>low carb</td>\n",
       "      <td>2018-01-27</td>\n",
       "      <td>12337</td>\n",
       "    </tr>\n",
       "    <tr>\n",
       "      <th>4</th>\n",
       "      <td>amazon</td>\n",
       "      <td>8</td>\n",
       "      <td>low carb</td>\n",
       "      <td>2018-02-03</td>\n",
       "      <td>12667</td>\n",
       "    </tr>\n",
       "    <tr>\n",
       "      <th>...</th>\n",
       "      <td>...</td>\n",
       "      <td>...</td>\n",
       "      <td>...</td>\n",
       "      <td>...</td>\n",
       "      <td>...</td>\n",
       "    </tr>\n",
       "    <tr>\n",
       "      <th>57843</th>\n",
       "      <td>walmart</td>\n",
       "      <td>980</td>\n",
       "      <td>honey</td>\n",
       "      <td>2019-08-31</td>\n",
       "      <td>126</td>\n",
       "    </tr>\n",
       "    <tr>\n",
       "      <th>57844</th>\n",
       "      <td>walmart</td>\n",
       "      <td>980</td>\n",
       "      <td>honey</td>\n",
       "      <td>2019-09-07</td>\n",
       "      <td>209</td>\n",
       "    </tr>\n",
       "    <tr>\n",
       "      <th>57845</th>\n",
       "      <td>walmart</td>\n",
       "      <td>980</td>\n",
       "      <td>honey</td>\n",
       "      <td>2019-09-14</td>\n",
       "      <td>84</td>\n",
       "    </tr>\n",
       "    <tr>\n",
       "      <th>57846</th>\n",
       "      <td>walmart</td>\n",
       "      <td>980</td>\n",
       "      <td>honey</td>\n",
       "      <td>2019-09-21</td>\n",
       "      <td>209</td>\n",
       "    </tr>\n",
       "    <tr>\n",
       "      <th>57847</th>\n",
       "      <td>walmart</td>\n",
       "      <td>980</td>\n",
       "      <td>honey</td>\n",
       "      <td>2019-09-28</td>\n",
       "      <td>293</td>\n",
       "    </tr>\n",
       "  </tbody>\n",
       "</table>\n",
       "<p>57848 rows × 5 columns</p>\n",
       "</div>"
      ],
      "text/plain": [
       "      platform  Claim_Id Claim_name       date  searchVolume\n",
       "0       amazon         8   low carb 2018-01-06         12042\n",
       "1       amazon         8   low carb 2018-01-13         12631\n",
       "2       amazon         8   low carb 2018-01-20         12544\n",
       "3       amazon         8   low carb 2018-01-27         12337\n",
       "4       amazon         8   low carb 2018-02-03         12667\n",
       "...        ...       ...        ...        ...           ...\n",
       "57843  walmart       980      honey 2019-08-31           126\n",
       "57844  walmart       980      honey 2019-09-07           209\n",
       "57845  walmart       980      honey 2019-09-14            84\n",
       "57846  walmart       980      honey 2019-09-21           209\n",
       "57847  walmart       980      honey 2019-09-28           293\n",
       "\n",
       "[57848 rows x 5 columns]"
      ]
     },
     "execution_count": 120,
     "metadata": {},
     "output_type": "execute_result"
    }
   ],
   "source": [
    "google_search_data2.set_index('date', inplace=True)\n",
    "df_weekly_g = google_search_data2.groupby(['platform', 'Claim_Id', 'Claim_name']).resample('W-SAT').sum()\n",
    "df_weekly_g.drop('Claim_Id', axis=1, inplace=True)\n",
    "df_weekly_g = df_weekly_g.reset_index()\n",
    "df_weekly_g"
   ]
  },
  {
   "attachments": {},
   "cell_type": "markdown",
   "metadata": {},
   "source": [
    "##### Adding all the search platform in the dataset"
   ]
  },
  {
   "cell_type": "code",
   "execution_count": 121,
   "metadata": {},
   "outputs": [],
   "source": [
    "amazon_searches = df_weekly_g[df_weekly_g['platform'] == \"amazon\"].groupby(['date', 'Claim_Id', 'Claim_name']).agg({'searchVolume':'sum'}).reset_index().rename(columns={'searchVolume': 'amazon_searchVolume'})\n",
    "chewy_searches = df_weekly_g[df_weekly_g['platform'] == \"chewy\"].groupby(['date', 'Claim_Id', 'Claim_name']).agg({'searchVolume':'sum'}).reset_index().rename(columns={'searchVolume': 'chewy_searchVolume'})\n",
    "google_searches = df_weekly_g[df_weekly_g['platform'] == \"google\"].groupby(['date', 'Claim_Id', 'Claim_name']).agg({'searchVolume':'sum'}).reset_index().rename(columns={'searchVolume': 'google_searchVolume'})\n",
    "walmart_searches = df_weekly_g[df_weekly_g['platform'] == \"walmart\"].groupby(['date', 'Claim_Id', 'Claim_name']).agg({'searchVolume':'sum'}).reset_index().rename(columns={'searchVolume': 'walmart_searchVolume'})"
   ]
  },
  {
   "cell_type": "code",
   "execution_count": 122,
   "metadata": {},
   "outputs": [
    {
     "data": {
      "text/html": [
       "<div>\n",
       "<style scoped>\n",
       "    .dataframe tbody tr th:only-of-type {\n",
       "        vertical-align: middle;\n",
       "    }\n",
       "\n",
       "    .dataframe tbody tr th {\n",
       "        vertical-align: top;\n",
       "    }\n",
       "\n",
       "    .dataframe thead th {\n",
       "        text-align: right;\n",
       "    }\n",
       "</style>\n",
       "<table border=\"1\" class=\"dataframe\">\n",
       "  <thead>\n",
       "    <tr style=\"text-align: right;\">\n",
       "      <th></th>\n",
       "      <th>date</th>\n",
       "      <th>Claim_Id</th>\n",
       "      <th>Claim_name</th>\n",
       "      <th>amazon_searchVolume</th>\n",
       "      <th>chewy_searchVolume</th>\n",
       "      <th>google_searchVolume</th>\n",
       "      <th>walmart_searchVolume</th>\n",
       "    </tr>\n",
       "  </thead>\n",
       "  <tbody>\n",
       "    <tr>\n",
       "      <th>0</th>\n",
       "      <td>2018-01-06</td>\n",
       "      <td>8</td>\n",
       "      <td>low carb</td>\n",
       "      <td>12042.0</td>\n",
       "      <td>4931.0</td>\n",
       "      <td>54624.0</td>\n",
       "      <td>978.0</td>\n",
       "    </tr>\n",
       "    <tr>\n",
       "      <th>1</th>\n",
       "      <td>2018-01-06</td>\n",
       "      <td>39</td>\n",
       "      <td>high/source of protein</td>\n",
       "      <td>89.0</td>\n",
       "      <td>60.0</td>\n",
       "      <td>0.0</td>\n",
       "      <td>0.0</td>\n",
       "    </tr>\n",
       "    <tr>\n",
       "      <th>2</th>\n",
       "      <td>2018-01-06</td>\n",
       "      <td>65</td>\n",
       "      <td>ethical - not specific</td>\n",
       "      <td>60.0</td>\n",
       "      <td>0.0</td>\n",
       "      <td>2119.0</td>\n",
       "      <td>0.0</td>\n",
       "    </tr>\n",
       "    <tr>\n",
       "      <th>3</th>\n",
       "      <td>2018-01-06</td>\n",
       "      <td>75</td>\n",
       "      <td>french bisque</td>\n",
       "      <td>712.0</td>\n",
       "      <td>178.0</td>\n",
       "      <td>16962.0</td>\n",
       "      <td>297.0</td>\n",
       "    </tr>\n",
       "    <tr>\n",
       "      <th>4</th>\n",
       "      <td>2018-01-06</td>\n",
       "      <td>152</td>\n",
       "      <td>low sugar</td>\n",
       "      <td>418.0</td>\n",
       "      <td>0.0</td>\n",
       "      <td>18804.0</td>\n",
       "      <td>0.0</td>\n",
       "    </tr>\n",
       "    <tr>\n",
       "      <th>...</th>\n",
       "      <td>...</td>\n",
       "      <td>...</td>\n",
       "      <td>...</td>\n",
       "      <td>...</td>\n",
       "      <td>...</td>\n",
       "      <td>...</td>\n",
       "      <td>...</td>\n",
       "    </tr>\n",
       "    <tr>\n",
       "      <th>39979</th>\n",
       "      <td>2019-10-05</td>\n",
       "      <td>903</td>\n",
       "      <td>omega-3</td>\n",
       "      <td>0.0</td>\n",
       "      <td>0.0</td>\n",
       "      <td>149.0</td>\n",
       "      <td>0.0</td>\n",
       "    </tr>\n",
       "    <tr>\n",
       "      <th>39980</th>\n",
       "      <td>2019-10-05</td>\n",
       "      <td>907</td>\n",
       "      <td>dha</td>\n",
       "      <td>0.0</td>\n",
       "      <td>0.0</td>\n",
       "      <td>21403.0</td>\n",
       "      <td>0.0</td>\n",
       "    </tr>\n",
       "    <tr>\n",
       "      <th>39981</th>\n",
       "      <td>2019-10-05</td>\n",
       "      <td>948</td>\n",
       "      <td>sole</td>\n",
       "      <td>0.0</td>\n",
       "      <td>0.0</td>\n",
       "      <td>73.0</td>\n",
       "      <td>0.0</td>\n",
       "    </tr>\n",
       "    <tr>\n",
       "      <th>39982</th>\n",
       "      <td>2019-10-05</td>\n",
       "      <td>979</td>\n",
       "      <td>added iron</td>\n",
       "      <td>0.0</td>\n",
       "      <td>0.0</td>\n",
       "      <td>373.0</td>\n",
       "      <td>0.0</td>\n",
       "    </tr>\n",
       "    <tr>\n",
       "      <th>39983</th>\n",
       "      <td>2019-10-05</td>\n",
       "      <td>999</td>\n",
       "      <td>oral health</td>\n",
       "      <td>0.0</td>\n",
       "      <td>0.0</td>\n",
       "      <td>2312.0</td>\n",
       "      <td>0.0</td>\n",
       "    </tr>\n",
       "  </tbody>\n",
       "</table>\n",
       "<p>39984 rows × 7 columns</p>\n",
       "</div>"
      ],
      "text/plain": [
       "            date  Claim_Id              Claim_name  amazon_searchVolume  \\\n",
       "0     2018-01-06         8                low carb              12042.0   \n",
       "1     2018-01-06        39  high/source of protein                 89.0   \n",
       "2     2018-01-06        65  ethical - not specific                 60.0   \n",
       "3     2018-01-06        75           french bisque                712.0   \n",
       "4     2018-01-06       152               low sugar                418.0   \n",
       "...          ...       ...                     ...                  ...   \n",
       "39979 2019-10-05       903                 omega-3                  0.0   \n",
       "39980 2019-10-05       907                     dha                  0.0   \n",
       "39981 2019-10-05       948                    sole                  0.0   \n",
       "39982 2019-10-05       979              added iron                  0.0   \n",
       "39983 2019-10-05       999             oral health                  0.0   \n",
       "\n",
       "       chewy_searchVolume  google_searchVolume  walmart_searchVolume  \n",
       "0                  4931.0              54624.0                 978.0  \n",
       "1                    60.0                  0.0                   0.0  \n",
       "2                     0.0               2119.0                   0.0  \n",
       "3                   178.0              16962.0                 297.0  \n",
       "4                     0.0              18804.0                   0.0  \n",
       "...                   ...                  ...                   ...  \n",
       "39979                 0.0                149.0                   0.0  \n",
       "39980                 0.0              21403.0                   0.0  \n",
       "39981                 0.0                 73.0                   0.0  \n",
       "39982                 0.0                373.0                   0.0  \n",
       "39983                 0.0               2312.0                   0.0  \n",
       "\n",
       "[39984 rows x 7 columns]"
      ]
     },
     "execution_count": 122,
     "metadata": {},
     "output_type": "execute_result"
    }
   ],
   "source": [
    "am_ch = amazon_searches.merge(chewy_searches, on=['date', 'Claim_Id', 'Claim_name'], how='outer')\n",
    "am_ch_go = am_ch.merge(google_searches, on=['date', 'Claim_Id', 'Claim_name'], how='outer')\n",
    "google_search_data_processed = am_ch_go.merge(walmart_searches, on=['date', 'Claim_Id', 'Claim_name'], how='outer')\n",
    "google_search_data_processed.fillna(0, inplace=True)\n",
    "google_search_data_processed"
   ]
  },
  {
   "attachments": {},
   "cell_type": "markdown",
   "metadata": {},
   "source": [
    "#### We have final 3 dataset with the name of sales_data_processed, Social_media_processed and google_theme_processed, we are merging to together as our final dataset for training the model."
   ]
  },
  {
   "cell_type": "code",
   "execution_count": 123,
   "metadata": {},
   "outputs": [
    {
     "data": {
      "text/plain": [
       "(3789, 16)"
      ]
     },
     "execution_count": 123,
     "metadata": {},
     "output_type": "execute_result"
    }
   ],
   "source": [
    "sales_social_data_processed = sales_data_processed.merge(social_media_data_processed,\n",
    "                          on = ['date','Claim_Id', 'Claim_name'],\n",
    "                          how='inner')\n",
    "sales_social_data_processed.shape"
   ]
  },
  {
   "cell_type": "code",
   "execution_count": 124,
   "metadata": {},
   "outputs": [
    {
     "data": {
      "text/plain": [
       "(2966, 19)"
      ]
     },
     "execution_count": 124,
     "metadata": {},
     "output_type": "execute_result"
    }
   ],
   "source": [
    "sales_social_google_data_processed = sales_social_data_processed.merge(google_search_data_processed,\n",
    "                          on = ['date','Claim_Id', 'Claim_name'],\n",
    "                          how='inner')\n",
    "sales_social_google_data_processed.drop('date',axis=1,inplace= True)\n",
    "sales_social_google_data_processed.shape"
   ]
  },
  {
   "cell_type": "code",
   "execution_count": 125,
   "metadata": {},
   "outputs": [
    {
     "data": {
      "text/plain": [
       "(582, 19)"
      ]
     },
     "execution_count": 125,
     "metadata": {},
     "output_type": "execute_result"
    }
   ],
   "source": [
    "top_sales = (\n",
    "    sales_social_google_data_processed\n",
    "    .groupby(['Claim_name']).agg({'client_A_sales_dollars_value':'sum'}).reset_index()\n",
    "    .sort_values(by=['client_A_sales_dollars_value'], ascending=False)\n",
    "    .head(3)\n",
    ")\n",
    "sales_social_google_data_processed=sales_social_google_data_processed[sales_social_google_data_processed['Claim_name'].isin(top_sales['Claim_name'])]\n",
    "sales_social_google_data_processed.shape"
   ]
  },
  {
   "cell_type": "code",
   "execution_count": 126,
   "metadata": {},
   "outputs": [
    {
     "data": {},
     "metadata": {},
     "output_type": "display_data"
    },
    {
     "data": {
      "application/vnd.holoviews_exec.v0+json": "",
      "text/html": [
       "<div id='1331'>\n",
       "  <div class=\"bk-root\" id=\"e44be4ae-7d4a-46a9-8dd6-0f850e544110\" data-root-id=\"1331\"></div>\n",
       "</div>\n",
       "<script type=\"application/javascript\">(function(root) {\n",
       "  function embed_document(root) {\n",
       "    var docs_json = {\"20b849b3-c942-4de0-8b51-ab6eb4b6f4b0\":{\"defs\":[{\"extends\":null,\"module\":null,\"name\":\"ReactiveHTML1\",\"overrides\":[],\"properties\":[]},{\"extends\":null,\"module\":null,\"name\":\"FlexBox1\",\"overrides\":[],\"properties\":[{\"default\":\"flex-start\",\"kind\":null,\"name\":\"align_content\"},{\"default\":\"flex-start\",\"kind\":null,\"name\":\"align_items\"},{\"default\":\"row\",\"kind\":null,\"name\":\"flex_direction\"},{\"default\":\"wrap\",\"kind\":null,\"name\":\"flex_wrap\"},{\"default\":\"flex-start\",\"kind\":null,\"name\":\"justify_content\"}]},{\"extends\":null,\"module\":null,\"name\":\"GridStack1\",\"overrides\":[],\"properties\":[{\"default\":\"warn\",\"kind\":null,\"name\":\"mode\"},{\"default\":null,\"kind\":null,\"name\":\"ncols\"},{\"default\":null,\"kind\":null,\"name\":\"nrows\"},{\"default\":true,\"kind\":null,\"name\":\"allow_resize\"},{\"default\":true,\"kind\":null,\"name\":\"allow_drag\"},{\"default\":[],\"kind\":null,\"name\":\"state\"}]},{\"extends\":null,\"module\":null,\"name\":\"click1\",\"overrides\":[],\"properties\":[{\"default\":\"\",\"kind\":null,\"name\":\"terminal_output\"},{\"default\":\"\",\"kind\":null,\"name\":\"debug_name\"},{\"default\":0,\"kind\":null,\"name\":\"clears\"}]},{\"extends\":null,\"module\":null,\"name\":\"NotificationAreaBase1\",\"overrides\":[],\"properties\":[{\"default\":\"bottom-right\",\"kind\":null,\"name\":\"position\"},{\"default\":0,\"kind\":null,\"name\":\"_clear\"}]},{\"extends\":null,\"module\":null,\"name\":\"NotificationArea1\",\"overrides\":[],\"properties\":[{\"default\":[],\"kind\":null,\"name\":\"notifications\"},{\"default\":\"bottom-right\",\"kind\":null,\"name\":\"position\"},{\"default\":0,\"kind\":null,\"name\":\"_clear\"},{\"default\":[{\"background\":\"#ffc107\",\"icon\":{\"className\":\"fas fa-exclamation-triangle\",\"color\":\"white\",\"tagName\":\"i\"},\"type\":\"warning\"},{\"background\":\"#007bff\",\"icon\":{\"className\":\"fas fa-info-circle\",\"color\":\"white\",\"tagName\":\"i\"},\"type\":\"info\"}],\"kind\":null,\"name\":\"types\"}]},{\"extends\":null,\"module\":null,\"name\":\"Notification\",\"overrides\":[],\"properties\":[{\"default\":null,\"kind\":null,\"name\":\"background\"},{\"default\":3000,\"kind\":null,\"name\":\"duration\"},{\"default\":null,\"kind\":null,\"name\":\"icon\"},{\"default\":\"\",\"kind\":null,\"name\":\"message\"},{\"default\":null,\"kind\":null,\"name\":\"notification_type\"},{\"default\":false,\"kind\":null,\"name\":\"_destroyed\"}]},{\"extends\":null,\"module\":null,\"name\":\"TemplateActions1\",\"overrides\":[],\"properties\":[{\"default\":0,\"kind\":null,\"name\":\"open_modal\"},{\"default\":0,\"kind\":null,\"name\":\"close_modal\"}]},{\"extends\":null,\"module\":null,\"name\":\"MaterialTemplateActions1\",\"overrides\":[],\"properties\":[{\"default\":0,\"kind\":null,\"name\":\"open_modal\"},{\"default\":0,\"kind\":null,\"name\":\"close_modal\"}]}],\"roots\":{\"references\":[{\"attributes\":{},\"id\":\"1380\",\"type\":\"StringFormatter\"},{\"attributes\":{},\"id\":\"1419\",\"type\":\"StringEditor\"},{\"attributes\":{\"indices\":[]},\"id\":\"1368\",\"type\":\"Selection\"},{\"attributes\":{\"data\":{\"2931\":[\"227\",\"salmon\",\"8193104.0\",\"669483\",\"5128803\",\"9.232016262549292\",\"22.884407121208888\",\"0.0\",\"6.127645168494075\",\"36.72495136051756\",\"0.0\",\"18.82672715778085\",\"3.918251419099333\",\"13.760509679347853\",\"369\",\"84.0\",\"0.0\",\"4200.0\",\"0.0\"],\"2936\":[\"8\",\"low carb\",\"13018928.0\",\"2684050\",\"3980565\",\"12.50283771973562\",\"13.522329092848972\",\"0.0\",\"14.383978187019482\",\"20.662439622977228\",\"0.0\",\"27.05904958130207\",\"10.445394230190917\",\"15.542471299659649\",\"1545\",\"6315.0\",\"2661.0\",\"33610.0\",\"960.0\"],\"2947\":[\"227\",\"salmon\",\"8024461.0\",\"685843\",\"5052035\",\"8.726104887177943\",\"23.555021734394785\",\"0.0\",\"7.202947609740087\",\"35.89651538300201\",\"0.0\",\"23.88948626620696\",\"4.050113099915065\",\"14.433321899992173\",\"173\",\"0.0\",\"0.0\",\"5509.0\",\"0.0\"],\"2952\":[\"8\",\"low carb\",\"13411840.0\",\"2725010\",\"4094690\",\"12.61684635204578\",\"13.569447123865709\",\"0.0\",\"14.126383336952035\",\"20.641190078557266\",\"0.0\",\"21.31900200044533\",\"10.369835646481576\",\"15.805050857469245\",\"2470\",\"2569.0\",\"1701.0\",\"16560.0\",\"458.0\"],\"2961\":[\"227\",\"salmon\",\"8554603.0\",\"713185\",\"5390433\",\"8.65433144308955\",\"23.86457440503612\",\"0.0\",\"6.219292091439062\",\"36.8711211986491\",\"0.0\",\"10.939225021150362\",\"3.940688804424894\",\"13.86801662608213\",\"155\",\"42.0\",\"0.0\",\"4443.0\",\"0.0\"],\"index\":[\"Claim_Id\",\"Claim_name\",\"client_A_sales_dollars_value\",\"Client_A_sales_units_value\",\"client_A_sales_lbs_value\",\"Client_A_sales_unit_price\",\"B_sales_unit_price\",\"E_sales_unit_price\",\"D_sales_unit_price\",\"F_sales_unit_price\",\"G_sales_unit_price\",\"H_sales_unit_price\",\"Private_sales_unit_price\",\"others_sales_unit_price\",\"total_post\",\"amazon_searchVolume\",\"chewy_searchVolume\",\"google_searchVolume\",\"walmart_searchVolume\"]},\"selected\":{\"id\":\"1406\"},\"selection_policy\":{\"id\":\"1447\"}},\"id\":\"1405\",\"type\":\"ColumnDataSource\"},{\"attributes\":{},\"id\":\"1347\",\"type\":\"StringFormatter\"},{\"attributes\":{\"editor\":{\"id\":\"1376\"},\"field\":\"0\",\"formatter\":{\"id\":\"1375\"},\"title\":\"0\",\"width\":0},\"id\":\"1377\",\"type\":\"TableColumn\"},{\"attributes\":{},\"id\":\"1343\",\"type\":\"StringEditor\"},{\"attributes\":{\"indices\":[]},\"id\":\"1335\",\"type\":\"Selection\"},{\"attributes\":{},\"id\":\"1428\",\"type\":\"StringFormatter\"},{\"attributes\":{},\"id\":\"1443\",\"type\":\"UnionRenderers\"},{\"attributes\":{},\"id\":\"1396\",\"type\":\"StringEditor\"},{\"attributes\":{\"editor\":{\"id\":\"1343\"},\"field\":\"Variable Name\",\"formatter\":{\"id\":\"1342\"},\"title\":\"Variable Name\",\"width\":0},\"id\":\"1344\",\"type\":\"TableColumn\"},{\"attributes\":{\"data\":{\"0\":[\"8\",\"low carb\",\"8853853.0\",\"1952575\",\"2947044\",\"11.837333067899712\",\"16.15949120825055\",\"0.0\",\"14.633429330796343\",\"18.921083000890473\",\"0.0\",\"13.990690564052505\",\"11.899578345567795\",\"15.345390593665147\",\"1124\",\"0.0\",\"0.0\",\"53156.0\",\"0.0\"],\"10\":[\"227\",\"salmon\",\"7639690.0\",\"754859\",\"5379338\",\"10.5819552835703\",\"29.716419732505763\",\"0.0\",\"11.116901914685117\",\"36.55205343800236\",\"0.0\",\"18.375675267481192\",\"5.380581606269313\",\"14.138203175759116\",\"52\",\"0.0\",\"0.0\",\"1913.0\",\"0.0\"],\"14\":[\"8\",\"low carb\",\"8705721.0\",\"1921171\",\"2901409\",\"11.92127716548142\",\"16.19802588278791\",\"0.0\",\"14.444694829993027\",\"18.99500482177137\",\"0.0\",\"14.179231116367628\",\"11.850022452355494\",\"15.567563605684132\",\"1481\",\"0.0\",\"0.0\",\"43618.0\",\"0.0\"],\"16\":[\"40\",\"no additives/preservatives\",\"7782563.0\",\"1122100\",\"3111921\",\"16.17964671793698\",\"22.793471692231943\",\"0.0\",\"13.086275991962196\",\"18.894421686165447\",\"0.0\",\"23.059497618329353\",\"3.121032368857092\",\"14.735373838417177\",\"34\",\"0.0\",\"0.0\",\"0.0\",\"0.0\"],\"2\":[\"40\",\"no additives/preservatives\",\"7761103.0\",\"1126163\",\"3106361\",\"16.466775039985656\",\"22.764357265330922\",\"0.0\",\"13.200042651324972\",\"18.903220575732753\",\"0.0\",\"22.18491470621926\",\"2.906461774589985\",\"14.680225107160256\",\"36\",\"0.0\",\"0.0\",\"0.0\",\"0.0\"],\"index\":[\"Claim_Id\",\"Claim_name\",\"client_A_sales_dollars_value\",\"Client_A_sales_units_value\",\"client_A_sales_lbs_value\",\"Client_A_sales_unit_price\",\"B_sales_unit_price\",\"E_sales_unit_price\",\"D_sales_unit_price\",\"F_sales_unit_price\",\"G_sales_unit_price\",\"H_sales_unit_price\",\"Private_sales_unit_price\",\"others_sales_unit_price\",\"total_post\",\"amazon_searchVolume\",\"chewy_searchVolume\",\"google_searchVolume\",\"walmart_searchVolume\"]},\"selected\":{\"id\":\"1368\"},\"selection_policy\":{\"id\":\"1445\"}},\"id\":\"1367\",\"type\":\"ColumnDataSource\"},{\"attributes\":{},\"id\":\"1418\",\"type\":\"StringFormatter\"},{\"attributes\":{\"editor\":{\"id\":\"1348\"},\"field\":\"Datatype\",\"formatter\":{\"id\":\"1347\"},\"title\":\"Datatype\",\"width\":0},\"id\":\"1349\",\"type\":\"TableColumn\"},{\"attributes\":{},\"id\":\"1376\",\"type\":\"StringEditor\"},{\"attributes\":{},\"id\":\"1391\",\"type\":\"StringEditor\"},{\"attributes\":{\"source\":{\"id\":\"1334\"}},\"id\":\"1364\",\"type\":\"CDSView\"},{\"attributes\":{\"editor\":{\"id\":\"1424\"},\"field\":\"2947\",\"formatter\":{\"id\":\"1423\"},\"title\":\"2947\",\"width\":0},\"id\":\"1425\",\"type\":\"TableColumn\"},{\"attributes\":{},\"id\":\"1429\",\"type\":\"StringEditor\"},{\"attributes\":{},\"id\":\"1352\",\"type\":\"StringFormatter\"},{\"attributes\":{\"editor\":{\"id\":\"1358\"},\"field\":\"Samples\",\"formatter\":{\"id\":\"1357\"},\"title\":\"Samples\",\"width\":0},\"id\":\"1359\",\"type\":\"TableColumn\"},{\"attributes\":{},\"id\":\"1338\",\"type\":\"CellEditor\"},{\"attributes\":{\"editor\":{\"id\":\"1434\"},\"field\":\"2961\",\"formatter\":{\"id\":\"1433\"},\"title\":\"2961\",\"width\":0},\"id\":\"1435\",\"type\":\"TableColumn\"},{\"attributes\":{},\"id\":\"1371\",\"type\":\"CellEditor\"},{\"attributes\":{},\"id\":\"1407\",\"type\":\"StringFormatter\"},{\"attributes\":{\"editor\":{\"id\":\"1414\"},\"field\":\"2931\",\"formatter\":{\"id\":\"1413\"},\"title\":\"2931\",\"width\":0},\"id\":\"1415\",\"type\":\"TableColumn\"},{\"attributes\":{},\"id\":\"1409\",\"type\":\"CellEditor\"},{\"attributes\":{\"editor\":{\"id\":\"1338\"},\"field\":\"index\",\"formatter\":{\"id\":\"1336\"},\"title\":\"index\",\"width\":0},\"id\":\"1339\",\"type\":\"TableColumn\"},{\"attributes\":{\"margin\":[0,0,0,0],\"tabs\":[{\"id\":\"1333\"},{\"id\":\"1366\"},{\"id\":\"1404\"},{\"id\":\"1442\"}]},\"id\":\"1331\",\"type\":\"panel.models.tabs.Tabs\"},{\"attributes\":{},\"id\":\"1358\",\"type\":\"StringEditor\"},{\"attributes\":{},\"id\":\"1357\",\"type\":\"StringFormatter\"},{\"attributes\":{},\"id\":\"1395\",\"type\":\"StringFormatter\"},{\"attributes\":{\"editor\":{\"id\":\"1419\"},\"field\":\"2936\",\"formatter\":{\"id\":\"1418\"},\"title\":\"2936\",\"width\":0},\"id\":\"1420\",\"type\":\"TableColumn\"},{\"attributes\":{\"child\":{\"id\":\"1400\"},\"name\":\"head\",\"title\":\"head\"},\"id\":\"1404\",\"type\":\"Panel\"},{\"attributes\":{\"columns\":[{\"id\":\"1372\"},{\"id\":\"1377\"},{\"id\":\"1382\"},{\"id\":\"1387\"},{\"id\":\"1392\"},{\"id\":\"1397\"}],\"editable\":true,\"height\":300,\"index_position\":null,\"margin\":[5,10,5,10],\"name\":\"head\",\"row_height\":40,\"sizing_mode\":\"fixed\",\"source\":{\"id\":\"1367\"},\"view\":{\"id\":\"1402\"},\"width\":800},\"id\":\"1400\",\"type\":\"DataTable\"},{\"attributes\":{},\"id\":\"1414\",\"type\":\"StringEditor\"},{\"attributes\":{},\"id\":\"1381\",\"type\":\"StringEditor\"},{\"attributes\":{\"css_classes\":[\"markdown\"],\"margin\":[5,5,5,5],\"name\":\"Summary\",\"text\":\"&lt;p&gt;Length: 582, Columns: 19&lt;/p&gt;\"},\"id\":\"1332\",\"type\":\"panel.models.markup.HTML\"},{\"attributes\":{\"editor\":{\"id\":\"1396\"},\"field\":\"16\",\"formatter\":{\"id\":\"1395\"},\"title\":\"16\",\"width\":0},\"id\":\"1397\",\"type\":\"TableColumn\"},{\"attributes\":{\"source\":{\"id\":\"1367\"}},\"id\":\"1402\",\"type\":\"CDSView\"},{\"attributes\":{\"data\":{\"Datatype\":[\"int64\",\"object\",\"float64\",\"int64\",\"int64\",\"float64\",\"float64\",\"float64\",\"float64\",\"float64\",\"float64\",\"float64\",\"float64\",\"float64\",\"int64\",\"float64\",\"float64\",\"float64\",\"float64\"],\"No of Unique\":[\"3\",\"3\",\"582\",\"582\",\"581\",\"582\",\"582\",\"1\",\"582\",\"582\",\"1\",\"582\",\"582\",\"582\",\"459\",\"168\",\"107\",\"386\",\"92\"],\"Samples\":[\"[8, 40, 227]\",\"['low carb', 'no additives/preservatives', 'salmon']\",\"[8853853.0, 7761103.0, 7639690.0, 8705721.0, 7782563.0]\",\"[1952575, 1126163, 754859, 1921171, 1122100]\",\"[2947044, 3106361, 5379338, 2901409, 3111921]\",\"[11.837333067899712, 16.466775039985656, 10.5819552835703, 11.92127716548142, 16.17964671793698]\",\"[16.15949120825055, 22.764357265330922, 29.716419732505763, 16.19802588278791, 22.793471692231943]\",\"[0.0]\",\"[14.633429330796343, 13.200042651324972, 11.116901914685117, 14.444694829993027, 13.086275991962196]\",\"[18.921083000890473, 18.903220575732753, 36.55205343800236, 18.99500482177137, 18.894421686165447]\",\"[0.0]\",\"[13.990690564052505, 22.18491470621926, 18.375675267481192, 14.179231116367628, 23.059497618329353]\",\"[11.899578345567795, 2.906461774589985, 5.380581606269313, 11.850022452355494, 3.121032368857092]\",\"[15.345390593665147, 14.680225107160256, 14.138203175759116, 15.567563605684132, 14.735373838417177]\",\"[1124, 36, 52, 1481, 34]\",\"[0.0, 12042.0, 12631.0, 60.0, 12544.0]\",\"[0.0, 4931.0, 5168.0, 5139.0, 5049.0]\",\"[53156.0, 0.0, 1913.0, 43618.0, 4673.0]\",\"[0.0, 978.0, 1304.0, 1657.0, 742.0]\"],\"Variable Name\":[\"Claim_Id\",\"Claim_name\",\"client_A_sales_dollars_value\",\"Client_A_sales_units_value\",\"client_A_sales_lbs_value\",\"Client_A_sales_unit_price\",\"B_sales_unit_price\",\"E_sales_unit_price\",\"D_sales_unit_price\",\"F_sales_unit_price\",\"G_sales_unit_price\",\"H_sales_unit_price\",\"Private_sales_unit_price\",\"others_sales_unit_price\",\"total_post\",\"amazon_searchVolume\",\"chewy_searchVolume\",\"google_searchVolume\",\"walmart_searchVolume\"],\"index\":[\"Claim_Id\",\"Claim_name\",\"client_A_sales_dollars_value\",\"Client_A_sales_units_value\",\"client_A_sales_lbs_value\",\"Client_A_sales_unit_price\",\"B_sales_unit_price\",\"E_sales_unit_price\",\"D_sales_unit_price\",\"F_sales_unit_price\",\"G_sales_unit_price\",\"H_sales_unit_price\",\"Private_sales_unit_price\",\"others_sales_unit_price\",\"total_post\",\"amazon_searchVolume\",\"chewy_searchVolume\",\"google_searchVolume\",\"walmart_searchVolume\"]},\"selected\":{\"id\":\"1335\"},\"selection_policy\":{\"id\":\"1443\"}},\"id\":\"1334\",\"type\":\"ColumnDataSource\"},{\"attributes\":{},\"id\":\"1342\",\"type\":\"StringFormatter\"},{\"attributes\":{},\"id\":\"1369\",\"type\":\"StringFormatter\"},{\"attributes\":{\"editor\":{\"id\":\"1429\"},\"field\":\"2952\",\"formatter\":{\"id\":\"1428\"},\"title\":\"2952\",\"width\":0},\"id\":\"1430\",\"type\":\"TableColumn\"},{\"attributes\":{},\"id\":\"1434\",\"type\":\"StringEditor\"},{\"attributes\":{},\"id\":\"1447\",\"type\":\"UnionRenderers\"},{\"attributes\":{\"child\":{\"id\":\"1438\"},\"name\":\"tail\",\"title\":\"tail\"},\"id\":\"1442\",\"type\":\"Panel\"},{\"attributes\":{\"indices\":[]},\"id\":\"1406\",\"type\":\"Selection\"},{\"attributes\":{\"editor\":{\"id\":\"1353\"},\"field\":\"No of Unique\",\"formatter\":{\"id\":\"1352\"},\"title\":\"No of Unique\",\"width\":0},\"id\":\"1354\",\"type\":\"TableColumn\"},{\"attributes\":{},\"id\":\"1390\",\"type\":\"StringFormatter\"},{\"attributes\":{},\"id\":\"1348\",\"type\":\"StringEditor\"},{\"attributes\":{\"editor\":{\"id\":\"1409\"},\"field\":\"index\",\"formatter\":{\"id\":\"1407\"},\"title\":\"index\",\"width\":0},\"id\":\"1410\",\"type\":\"TableColumn\"},{\"attributes\":{\"child\":{\"id\":\"1332\"},\"name\":\"Summary\",\"title\":\"Summary\"},\"id\":\"1333\",\"type\":\"Panel\"},{\"attributes\":{},\"id\":\"1413\",\"type\":\"StringFormatter\"},{\"attributes\":{},\"id\":\"1375\",\"type\":\"StringFormatter\"},{\"attributes\":{},\"id\":\"1386\",\"type\":\"StringEditor\"},{\"attributes\":{},\"id\":\"1423\",\"type\":\"StringFormatter\"},{\"attributes\":{\"client_comm_id\":\"fcf61c12f332405587398cb899bfcf73\",\"comm_id\":\"9f1cdf062198416495c6f75c7c971952\",\"plot_id\":\"1331\"},\"id\":\"1461\",\"type\":\"panel.models.comm_manager.CommManager\"},{\"attributes\":{},\"id\":\"1336\",\"type\":\"StringFormatter\"},{\"attributes\":{},\"id\":\"1424\",\"type\":\"StringEditor\"},{\"attributes\":{\"source\":{\"id\":\"1405\"}},\"id\":\"1440\",\"type\":\"CDSView\"},{\"attributes\":{\"columns\":[{\"id\":\"1410\"},{\"id\":\"1415\"},{\"id\":\"1420\"},{\"id\":\"1425\"},{\"id\":\"1430\"},{\"id\":\"1435\"}],\"editable\":true,\"height\":300,\"index_position\":null,\"margin\":[5,10,5,10],\"name\":\"tail\",\"row_height\":40,\"sizing_mode\":\"fixed\",\"source\":{\"id\":\"1405\"},\"view\":{\"id\":\"1440\"},\"width\":800},\"id\":\"1438\",\"type\":\"DataTable\"},{\"attributes\":{},\"id\":\"1385\",\"type\":\"StringFormatter\"},{\"attributes\":{\"editor\":{\"id\":\"1391\"},\"field\":\"14\",\"formatter\":{\"id\":\"1390\"},\"title\":\"14\",\"width\":0},\"id\":\"1392\",\"type\":\"TableColumn\"},{\"attributes\":{\"child\":{\"id\":\"1362\"},\"name\":\"Variable summary\",\"title\":\"Variable summary\"},\"id\":\"1366\",\"type\":\"Panel\"},{\"attributes\":{},\"id\":\"1445\",\"type\":\"UnionRenderers\"},{\"attributes\":{\"editor\":{\"id\":\"1381\"},\"field\":\"2\",\"formatter\":{\"id\":\"1380\"},\"title\":\"2\",\"width\":0},\"id\":\"1382\",\"type\":\"TableColumn\"},{\"attributes\":{},\"id\":\"1353\",\"type\":\"StringEditor\"},{\"attributes\":{},\"id\":\"1433\",\"type\":\"StringFormatter\"},{\"attributes\":{\"columns\":[{\"id\":\"1339\"},{\"id\":\"1344\"},{\"id\":\"1349\"},{\"id\":\"1354\"},{\"id\":\"1359\"}],\"editable\":true,\"height\":300,\"index_position\":null,\"margin\":[5,10,5,10],\"name\":\"Variable summary\",\"row_height\":40,\"sizing_mode\":\"fixed\",\"source\":{\"id\":\"1334\"},\"view\":{\"id\":\"1364\"},\"width\":800},\"id\":\"1362\",\"type\":\"DataTable\"},{\"attributes\":{\"editor\":{\"id\":\"1386\"},\"field\":\"10\",\"formatter\":{\"id\":\"1385\"},\"title\":\"10\",\"width\":0},\"id\":\"1387\",\"type\":\"TableColumn\"},{\"attributes\":{\"editor\":{\"id\":\"1371\"},\"field\":\"index\",\"formatter\":{\"id\":\"1369\"},\"title\":\"index\",\"width\":0},\"id\":\"1372\",\"type\":\"TableColumn\"}],\"root_ids\":[\"1331\",\"1461\"]},\"title\":\"Bokeh Application\",\"version\":\"2.4.3\"}};\n",
       "    var render_items = [{\"docid\":\"20b849b3-c942-4de0-8b51-ab6eb4b6f4b0\",\"root_ids\":[\"1331\"],\"roots\":{\"1331\":\"e44be4ae-7d4a-46a9-8dd6-0f850e544110\"}}];\n",
       "    root.Bokeh.embed.embed_items_notebook(docs_json, render_items);\n",
       "  }\n",
       "  if (root.Bokeh !== undefined && root.Bokeh.Panel !== undefined) {\n",
       "    embed_document(root);\n",
       "  } else {\n",
       "    var attempts = 0;\n",
       "    var timer = setInterval(function(root) {\n",
       "      if (root.Bokeh !== undefined && root.Bokeh.Panel !== undefined) {\n",
       "        clearInterval(timer);\n",
       "        embed_document(root);\n",
       "      } else if (document.readyState == \"complete\") {\n",
       "        attempts++;\n",
       "        if (attempts > 200) {\n",
       "          clearInterval(timer);\n",
       "          console.log(\"Bokeh: ERROR: Unable to run BokehJS code because BokehJS library is missing\");\n",
       "        }\n",
       "      }\n",
       "    }, 25, root)\n",
       "  }\n",
       "})(window);</script>"
      ],
      "text/plain": [
       "Tabs\n",
       "    [0] Markdown(str, name='Summary')\n",
       "    [1] DataFrame(height=300, name='Variable summary', sizing_mode='fixed', value=                          ..., width=800)\n",
       "    [2] DataFrame(height=300, name='head', sizing_mode='fixed', value=              ..., width=800)\n",
       "    [3] DataFrame(height=300, name='tail', sizing_mode='fixed', value=              ..., width=800)"
      ]
     },
     "execution_count": 126,
     "metadata": {
      "application/vnd.holoviews_exec.v0+json": {
       "id": "1331"
      }
     },
     "output_type": "execute_result"
    }
   ],
   "source": [
    "# Any verifications on the data\n",
    "from ta_lib.eda.api import get_variable_summary\n",
    "display_as_tabs([\n",
    "    (\"Summary\", f\"Length: {len(sales_social_google_data_processed)}, Columns: {len(sales_social_google_data_processed.columns)}\"),\n",
    "    (\"Variable summary\", get_variable_summary(sales_social_google_data_processed)),\n",
    "    (\"head\", sales_social_google_data_processed.head(5).T),\n",
    "    (\"tail\", sales_social_google_data_processed.tail(5).T),\n",
    "])"
   ]
  },
  {
   "cell_type": "code",
   "execution_count": 127,
   "metadata": {},
   "outputs": [],
   "source": [
    "save_dataset(context, sales_social_google_data_processed, 'processed/sales_social_google_data_processed')"
   ]
  },
  {
   "attachments": {},
   "cell_type": "markdown",
   "metadata": {},
   "source": [
    "# 3. Generate Train, Validation and Test datasets\n",
    "\n"
   ]
  },
  {
   "attachments": {},
   "cell_type": "markdown",
   "metadata": {},
   "source": [
    "- We split the data into train, test (optionally, also a validation dataset)\n",
    "- In this example, we are binning the target into 10 quantiles and then use a Stratified Shuffle to split the data.\n",
    "- See sklearn documentation on the various available splitters\n",
    "- https://scikit-learn.org/stable/modules/classes.html#splitter-classes\n",
    "- This will go into production code (training only)"
   ]
  },
  {
   "cell_type": "code",
   "execution_count": 128,
   "metadata": {},
   "outputs": [],
   "source": [
    "from sklearn.model_selection import StratifiedShuffleSplit\n",
    "from ta_lib.core.api import custom_train_test_split # helper function to customize splitting\n",
    "from scripts import *\n",
    "\n",
    "sales_df_train, sales_df_test = train_test_split(sales_social_google_data_processed, test_size=0.1, random_state=42)\n",
    "target_col = \"Client_A_sales_units_value\""
   ]
  },
  {
   "cell_type": "code",
   "execution_count": 129,
   "metadata": {},
   "outputs": [],
   "source": [
    "train_X, train_y = (\n",
    "    sales_df_train\n",
    "    # split the dataset to train and test\n",
    "    .get_features_targets(target_column_names=target_col)\n",
    ")\n",
    "save_dataset(context, train_X, 'train/features')\n",
    "save_dataset(context, train_y, 'train/target')\n",
    "\n",
    "test_X, test_y = (\n",
    "    sales_df_test\n",
    "    # split the dataset to train and test\n",
    "    .get_features_targets(target_column_names=target_col)\n",
    ")\n",
    "save_dataset(context, test_X, 'test/features')\n",
    "save_dataset(context, test_y, 'test/target')\n"
   ]
  }
 ],
 "metadata": {
  "kernelspec": {
   "display_name": "ta-lib-dev",
   "language": "python",
   "name": "python3"
  },
  "language_info": {
   "codemirror_mode": {
    "name": "ipython",
    "version": 3
   },
   "file_extension": ".py",
   "mimetype": "text/x-python",
   "name": "python",
   "nbconvert_exporter": "python",
   "pygments_lexer": "ipython3",
   "version": "3.9.16"
  }
 },
 "nbformat": 4,
 "nbformat_minor": 4
}
